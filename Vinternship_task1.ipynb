{
  "nbformat": 4,
  "nbformat_minor": 0,
  "metadata": {
    "colab": {
      "provenance": [],
      "collapsed_sections": [
        "upH-E84T4Upz",
        "HXs3DXn4v8Q_",
        "I1B5N2-KwfZ7",
        "3o6ICEYLHSxq",
        "NwxYbiodyWSY",
        "VP5KKMb1HlWb",
        "HPuaRa-S2GrC"
      ]
    },
    "kernelspec": {
      "name": "python3",
      "display_name": "Python 3"
    },
    "language_info": {
      "name": "python"
    }
  },
  "cells": [
    {
      "cell_type": "markdown",
      "source": [
        "# Setup"
      ],
      "metadata": {
        "id": "upH-E84T4Upz"
      }
    },
    {
      "cell_type": "code",
      "execution_count": 2,
      "metadata": {
        "colab": {
          "base_uri": "https://localhost:8080/"
        },
        "id": "n6cFjXRE5l_Q",
        "outputId": "74e9293e-62aa-4972-e97e-73dfb05649b2"
      },
      "outputs": [
        {
          "output_type": "stream",
          "name": "stderr",
          "text": [
            "Retrieving folder list\n"
          ]
        },
        {
          "output_type": "stream",
          "name": "stdout",
          "text": [
            "Processing file 1SJL9Rb-gMixa8qIdrIyr5Oh56Vssr3DH Group 4.xlsx\n",
            "Building directory structure completed\n"
          ]
        },
        {
          "output_type": "stream",
          "name": "stderr",
          "text": [
            "Retrieving folder list completed\n",
            "Building directory structure\n",
            "Downloading...\n",
            "From: https://drive.google.com/uc?id=1SJL9Rb-gMixa8qIdrIyr5Oh56Vssr3DH\n",
            "To: /content/Vinternship2023/Group 4.xlsx\n",
            "100%|██████████| 233k/233k [00:00<00:00, 64.5MB/s]\n",
            "Download completed\n"
          ]
        },
        {
          "output_type": "stream",
          "name": "stdout",
          "text": [
            "Downloading...\n",
            "From: https://drive.google.com/uc?id=1SJL9Rb-gMixa8qIdrIyr5Oh56Vssr3DH\n",
            "To: /content/Group 4.xlsx\n",
            "\r  0% 0.00/233k [00:00<?, ?B/s]\r100% 233k/233k [00:00<00:00, 125MB/s]\n"
          ]
        }
      ],
      "source": [
        "# # This chunk works.\n",
        "# !pip uninstall --yes gdown # After running this line, restart Colab runtime.\n",
        "\n",
        "# !pip install gdown -U --no-cache-dir\n",
        "import gdown\n",
        "\n",
        "url = ' https://drive.google.com/drive/folders/1RvblHYInK63R1_-yo4kbxd6NnggNtr01?usp=drive_link'\n",
        "\n",
        "gdown.download_folder(url)\n",
        "!gdown 1SJL9Rb-gMixa8qIdrIyr5Oh56Vssr3DH"
      ]
    },
    {
      "cell_type": "markdown",
      "source": [
        "# Loading the dataset"
      ],
      "metadata": {
        "id": "HXs3DXn4v8Q_"
      }
    },
    {
      "cell_type": "code",
      "source": [
        "import pandas as pd\n",
        "df=pd.read_excel(\"/content/Group 4.xlsx\")\n",
        "df.head()"
      ],
      "metadata": {
        "colab": {
          "base_uri": "https://localhost:8080/",
          "height": 0
        },
        "id": "nZ5id1Il8_Zh",
        "outputId": "ff26fb3a-8604-46bc-8f93-40d6684e839c"
      },
      "execution_count": 3,
      "outputs": [
        {
          "output_type": "execute_result",
          "data": {
            "text/plain": [
              "  temperature;exhaust_vacuum;ambient_pressure;relative_humidity;energy_output\n",
              "0                      9.59;38.56;1017.01;60.1;481.3                         \n",
              "1                   12.04;42.34;1019.72;94.67;465.36                         \n",
              "2                   13.87;45.08;1024.42;81.69;465.48                         \n",
              "3                    13.72;54.3;1017.89;79.08;467.05                         \n",
              "4                      15.14;49.64;1023.78;75;463.58                         "
            ],
            "text/html": [
              "\n",
              "  <div id=\"df-a342c509-9871-47aa-9c31-27ab652e1eac\">\n",
              "    <div class=\"colab-df-container\">\n",
              "      <div>\n",
              "<style scoped>\n",
              "    .dataframe tbody tr th:only-of-type {\n",
              "        vertical-align: middle;\n",
              "    }\n",
              "\n",
              "    .dataframe tbody tr th {\n",
              "        vertical-align: top;\n",
              "    }\n",
              "\n",
              "    .dataframe thead th {\n",
              "        text-align: right;\n",
              "    }\n",
              "</style>\n",
              "<table border=\"1\" class=\"dataframe\">\n",
              "  <thead>\n",
              "    <tr style=\"text-align: right;\">\n",
              "      <th></th>\n",
              "      <th>temperature;exhaust_vacuum;ambient_pressure;relative_humidity;energy_output</th>\n",
              "    </tr>\n",
              "  </thead>\n",
              "  <tbody>\n",
              "    <tr>\n",
              "      <th>0</th>\n",
              "      <td>9.59;38.56;1017.01;60.1;481.3</td>\n",
              "    </tr>\n",
              "    <tr>\n",
              "      <th>1</th>\n",
              "      <td>12.04;42.34;1019.72;94.67;465.36</td>\n",
              "    </tr>\n",
              "    <tr>\n",
              "      <th>2</th>\n",
              "      <td>13.87;45.08;1024.42;81.69;465.48</td>\n",
              "    </tr>\n",
              "    <tr>\n",
              "      <th>3</th>\n",
              "      <td>13.72;54.3;1017.89;79.08;467.05</td>\n",
              "    </tr>\n",
              "    <tr>\n",
              "      <th>4</th>\n",
              "      <td>15.14;49.64;1023.78;75;463.58</td>\n",
              "    </tr>\n",
              "  </tbody>\n",
              "</table>\n",
              "</div>\n",
              "      <button class=\"colab-df-convert\" onclick=\"convertToInteractive('df-a342c509-9871-47aa-9c31-27ab652e1eac')\"\n",
              "              title=\"Convert this dataframe to an interactive table.\"\n",
              "              style=\"display:none;\">\n",
              "        \n",
              "  <svg xmlns=\"http://www.w3.org/2000/svg\" height=\"24px\"viewBox=\"0 0 24 24\"\n",
              "       width=\"24px\">\n",
              "    <path d=\"M0 0h24v24H0V0z\" fill=\"none\"/>\n",
              "    <path d=\"M18.56 5.44l.94 2.06.94-2.06 2.06-.94-2.06-.94-.94-2.06-.94 2.06-2.06.94zm-11 1L8.5 8.5l.94-2.06 2.06-.94-2.06-.94L8.5 2.5l-.94 2.06-2.06.94zm10 10l.94 2.06.94-2.06 2.06-.94-2.06-.94-.94-2.06-.94 2.06-2.06.94z\"/><path d=\"M17.41 7.96l-1.37-1.37c-.4-.4-.92-.59-1.43-.59-.52 0-1.04.2-1.43.59L10.3 9.45l-7.72 7.72c-.78.78-.78 2.05 0 2.83L4 21.41c.39.39.9.59 1.41.59.51 0 1.02-.2 1.41-.59l7.78-7.78 2.81-2.81c.8-.78.8-2.07 0-2.86zM5.41 20L4 18.59l7.72-7.72 1.47 1.35L5.41 20z\"/>\n",
              "  </svg>\n",
              "      </button>\n",
              "      \n",
              "  <style>\n",
              "    .colab-df-container {\n",
              "      display:flex;\n",
              "      flex-wrap:wrap;\n",
              "      gap: 12px;\n",
              "    }\n",
              "\n",
              "    .colab-df-convert {\n",
              "      background-color: #E8F0FE;\n",
              "      border: none;\n",
              "      border-radius: 50%;\n",
              "      cursor: pointer;\n",
              "      display: none;\n",
              "      fill: #1967D2;\n",
              "      height: 32px;\n",
              "      padding: 0 0 0 0;\n",
              "      width: 32px;\n",
              "    }\n",
              "\n",
              "    .colab-df-convert:hover {\n",
              "      background-color: #E2EBFA;\n",
              "      box-shadow: 0px 1px 2px rgba(60, 64, 67, 0.3), 0px 1px 3px 1px rgba(60, 64, 67, 0.15);\n",
              "      fill: #174EA6;\n",
              "    }\n",
              "\n",
              "    [theme=dark] .colab-df-convert {\n",
              "      background-color: #3B4455;\n",
              "      fill: #D2E3FC;\n",
              "    }\n",
              "\n",
              "    [theme=dark] .colab-df-convert:hover {\n",
              "      background-color: #434B5C;\n",
              "      box-shadow: 0px 1px 3px 1px rgba(0, 0, 0, 0.15);\n",
              "      filter: drop-shadow(0px 1px 2px rgba(0, 0, 0, 0.3));\n",
              "      fill: #FFFFFF;\n",
              "    }\n",
              "  </style>\n",
              "\n",
              "      <script>\n",
              "        const buttonEl =\n",
              "          document.querySelector('#df-a342c509-9871-47aa-9c31-27ab652e1eac button.colab-df-convert');\n",
              "        buttonEl.style.display =\n",
              "          google.colab.kernel.accessAllowed ? 'block' : 'none';\n",
              "\n",
              "        async function convertToInteractive(key) {\n",
              "          const element = document.querySelector('#df-a342c509-9871-47aa-9c31-27ab652e1eac');\n",
              "          const dataTable =\n",
              "            await google.colab.kernel.invokeFunction('convertToInteractive',\n",
              "                                                     [key], {});\n",
              "          if (!dataTable) return;\n",
              "\n",
              "          const docLinkHtml = 'Like what you see? Visit the ' +\n",
              "            '<a target=\"_blank\" href=https://colab.research.google.com/notebooks/data_table.ipynb>data table notebook</a>'\n",
              "            + ' to learn more about interactive tables.';\n",
              "          element.innerHTML = '';\n",
              "          dataTable['output_type'] = 'display_data';\n",
              "          await google.colab.output.renderOutput(dataTable, element);\n",
              "          const docLink = document.createElement('div');\n",
              "          docLink.innerHTML = docLinkHtml;\n",
              "          element.appendChild(docLink);\n",
              "        }\n",
              "      </script>\n",
              "    </div>\n",
              "  </div>\n",
              "  "
            ]
          },
          "metadata": {},
          "execution_count": 3
        }
      ]
    },
    {
      "cell_type": "code",
      "source": [
        "print(df.shape)\n",
        "data=df.iloc[:]\n",
        "values=data[\"temperature;exhaust_vacuum;ambient_pressure;relative_humidity;energy_output\"]\n",
        "values.shape"
      ],
      "metadata": {
        "colab": {
          "base_uri": "https://localhost:8080/"
        },
        "id": "qa0cbX6y-E8y",
        "outputId": "09ea46b4-b620-468a-c096-a2d255c1a4ab"
      },
      "execution_count": 4,
      "outputs": [
        {
          "output_type": "stream",
          "name": "stdout",
          "text": [
            "(9568, 1)\n"
          ]
        },
        {
          "output_type": "execute_result",
          "data": {
            "text/plain": [
              "(9568,)"
            ]
          },
          "metadata": {},
          "execution_count": 4
        }
      ]
    },
    {
      "cell_type": "markdown",
      "source": [
        "# Take-away\n",
        "\n",
        "We find 4 input features and 1 target output"
      ],
      "metadata": {
        "id": "I1B5N2-KwfZ7"
      }
    },
    {
      "cell_type": "code",
      "source": [
        "import numpy as np\n",
        "\n",
        "all_x=np.zeros((9568,4))\n",
        "all_y=np.zeros((9568,1))"
      ],
      "metadata": {
        "id": "FLAoWM1U-ZW1"
      },
      "execution_count": 5,
      "outputs": []
    },
    {
      "cell_type": "code",
      "source": [
        "row=0\n",
        "for value in values:\n",
        "  \n",
        "  string=value.split(\";\")\n",
        "  all_x[row][0]=string[0]\n",
        "  all_x[row][1]=string[1]\n",
        "  all_x[row][2]=string[2]\n",
        "  all_x[row][3]=string[3]\n",
        "  all_y[row][0]=string[4]\n",
        "  row+=1\n",
        "print(\"feature inputs\", all_x)"
      ],
      "metadata": {
        "colab": {
          "base_uri": "https://localhost:8080/"
        },
        "id": "YEjKkgiZ-l40",
        "outputId": "f3088472-7f63-4cc9-accc-b2db6f520194"
      },
      "execution_count": 6,
      "outputs": [
        {
          "output_type": "stream",
          "name": "stdout",
          "text": [
            "feature inputs [[   9.59   38.56 1017.01   60.1 ]\n",
            " [  12.04   42.34 1019.72   94.67]\n",
            " [  13.87   45.08 1024.42   81.69]\n",
            " ...\n",
            " [  30.44   56.24 1005.19   56.24]\n",
            " [  23.     66.05 1020.61   80.29]\n",
            " [  17.75   49.25 1020.86   63.67]]\n"
          ]
        }
      ]
    },
    {
      "cell_type": "code",
      "source": [
        "print(\"target outputs\", all_y)"
      ],
      "metadata": {
        "colab": {
          "base_uri": "https://localhost:8080/"
        },
        "id": "HBDIGWz0yOZb",
        "outputId": "4867c6a5-a0bd-479d-bba5-ca1d9cb2b700"
      },
      "execution_count": 7,
      "outputs": [
        {
          "output_type": "stream",
          "name": "stdout",
          "text": [
            "target outputs [[481.3 ]\n",
            " [465.36]\n",
            " [465.48]\n",
            " ...\n",
            " [429.34]\n",
            " [421.57]\n",
            " [454.41]]\n"
          ]
        }
      ]
    },
    {
      "cell_type": "markdown",
      "source": [
        "# Model imports and train-test split"
      ],
      "metadata": {
        "id": "3o6ICEYLHSxq"
      }
    },
    {
      "cell_type": "code",
      "source": [
        "from sklearn.linear_model import LinearRegression\n",
        "from sklearn.tree import DecisionTreeRegressor\n",
        "from sklearn.ensemble import RandomForestRegressor\n",
        "from sklearn.model_selection import train_test_split\n",
        "from sklearn.metrics import mean_squared_error\n",
        "import matplotlib.pyplot as plt\n",
        "import seaborn as sns"
      ],
      "metadata": {
        "id": "8l0kkzoz-1iH"
      },
      "execution_count": 8,
      "outputs": []
    },
    {
      "cell_type": "code",
      "source": [
        "# Split the data into training and testing sets\n",
        "X_train, X_test, y_train, y_test = train_test_split(all_x, all_y, test_size=0.1, random_state=42)\n"
      ],
      "metadata": {
        "id": "F9ASsDUK2iSW"
      },
      "execution_count": 9,
      "outputs": []
    },
    {
      "cell_type": "markdown",
      "source": [
        "# Running a linear regression model"
      ],
      "metadata": {
        "id": "NwxYbiodyWSY"
      }
    },
    {
      "cell_type": "code",
      "source": [
        "def linear_regression(X_train, X_test, y_train, y_test, input):\n",
        "  # Create a linear regression model\n",
        "  model1 = LinearRegression()\n",
        "  # Train the model\n",
        "  model1.fit(X_train, y_train)\n",
        "\n",
        "  # Make predictions on the test set\n",
        "  y_pred = model1.predict(X_test)\n",
        "\n",
        "  # # plotting\n",
        "  # plt.scatter(X_train[0:,1], y_train, color = 'g')\n",
        "  # plt.plot(X_test[0:,1], y_pred, color = 'r')\n",
        "  \n",
        "  # Calculate the mean squared error\n",
        "  mse = mean_squared_error(y_test, y_pred)\n",
        "  print(\"Mean Squared Error (linear regression):\", mse)\n",
        "  \n",
        "  prediction = model1.predict(input.reshape(1,-1))\n",
        "  print(\"Predicting for the new input:\", prediction)\n",
        "  # print(\"Actual output for the second set of values:\", all_y[1])\n",
        "\n",
        "  return mse, prediction"
      ],
      "metadata": {
        "id": "QUPXsVnTzI_-"
      },
      "execution_count": 10,
      "outputs": []
    },
    {
      "cell_type": "markdown",
      "source": [
        "# Running decision tree and random forest regression models"
      ],
      "metadata": {
        "id": "VP5KKMb1HlWb"
      }
    },
    {
      "cell_type": "code",
      "source": [
        "def decision_tree_regression(X_train, X_test, y_train, y_test, input):\n",
        "  \n",
        "  # Create a linear regression model\n",
        "  model2 = DecisionTreeRegressor(random_state = 1)\n",
        "  # Train the model\n",
        "  model2.fit(X_train, y_train)\n",
        "\n",
        "  # Make predictions on the test set\n",
        "  y_pred = model2.predict(X_test)\n",
        "\n",
        "  # Calculate the mean squared error\n",
        "  mse = mean_squared_error(y_test, y_pred)\n",
        "  print(\"Mean Squared Error (decision tree regression):\", mse)\n",
        "\n",
        "  prediction = model2.predict(input.reshape(1,-1))\n",
        "  print(\"Predicting for the new input:\", prediction)\n",
        "\n",
        "  return mse, prediction"
      ],
      "metadata": {
        "id": "rhPSTTiyGWJH"
      },
      "execution_count": 11,
      "outputs": []
    },
    {
      "cell_type": "code",
      "source": [
        "def random_forest_regression(X_train, X_test, y_train, y_test, input):\n",
        "  \n",
        "  # Create a linear regression model\n",
        "  model3 = RandomForestRegressor()\n",
        "  # Train the model\n",
        "  model3.fit(X_train, y_train)\n",
        "\n",
        "  # Make predictions on the test set\n",
        "  y_pred = model3.predict(X_test)\n",
        "\n",
        "  # Calculate the mean squared error\n",
        "  mse = mean_squared_error(y_test, y_pred)\n",
        "  print(\"Mean Squared Error (random forest regression):\", mse)\n",
        "\n",
        "  prediction = model3.predict(input.reshape(1,-1))\n",
        "  print(\"Predicting for the new input:\", prediction)\n",
        "\n",
        "  return mse, prediction"
      ],
      "metadata": {
        "id": "cTZge_C9KjNA"
      },
      "execution_count": 12,
      "outputs": []
    },
    {
      "cell_type": "markdown",
      "source": [
        "# Running a gradient boost regression model"
      ],
      "metadata": {
        "id": "HPuaRa-S2GrC"
      }
    },
    {
      "cell_type": "code",
      "source": [
        "from xgboost import XGBRegressor\n",
        "\n",
        "def xgboost_regression(X_train, X_test, y_train, y_test, input):\n",
        "  \n",
        "  # Define the model\n",
        "  model4 = XGBRegressor(n_estimators=2000, learning_rate=0.0405)\n",
        "\n",
        "  # Fit the model\n",
        "  model4.fit(X_train, y_train) # Your code here\n",
        "\n",
        "  y_pred_XGB = model4.predict(X_test)\n",
        "\n",
        "  # Calculate the mean squared error\n",
        "  mse = mean_squared_error(y_test, y_pred_XGB)\n",
        "  print(\"Mean Squared Error (gradient boost):\", mse)\n",
        "  \n",
        "  prediction = model4.predict(input.reshape(1,-1))\n",
        "  print(\"Predicting for the new input:\", prediction)\n",
        "\n",
        "  return mse, prediction"
      ],
      "metadata": {
        "id": "t5SoC9S7K14Y"
      },
      "execution_count": 13,
      "outputs": []
    },
    {
      "cell_type": "markdown",
      "source": [
        "# Error comparison and prediction task"
      ],
      "metadata": {
        "id": "DpTPeUvo56Ja"
      }
    },
    {
      "cell_type": "code",
      "source": [
        "input = np.array([19.0, 54.0, 1013.0, 73.0])"
      ],
      "metadata": {
        "id": "MVHvyzAW_7O2"
      },
      "execution_count": 35,
      "outputs": []
    },
    {
      "cell_type": "code",
      "source": [
        "error_linear, prediction_linear = linear_regression(X_train, X_test, y_train, y_test, input)"
      ],
      "metadata": {
        "colab": {
          "base_uri": "https://localhost:8080/"
        },
        "id": "mFMFa6pB8gYr",
        "outputId": "38301b4c-0433-4e55-b82c-64ff19d4cc87"
      },
      "execution_count": 36,
      "outputs": [
        {
          "output_type": "stream",
          "name": "stdout",
          "text": [
            "Mean Squared Error (linear regression): 21.138205780598557\n",
            "Predicting for the new input: [[455.75179545]]\n"
          ]
        }
      ]
    },
    {
      "cell_type": "code",
      "source": [
        "error_decision, prediction_decision = decision_tree_regression(X_train, X_test, y_train, y_test, input)"
      ],
      "metadata": {
        "colab": {
          "base_uri": "https://localhost:8080/"
        },
        "id": "GnMMUlDbGoW6",
        "outputId": "110d7b0f-4e1f-4816-974a-288ddebfee09"
      },
      "execution_count": 37,
      "outputs": [
        {
          "output_type": "stream",
          "name": "stdout",
          "text": [
            "Mean Squared Error (decision tree regression): 19.079019540229872\n",
            "Predicting for the new input: [457.5]\n"
          ]
        }
      ]
    },
    {
      "cell_type": "code",
      "source": [
        "error_forest, prediction_forest = random_forest_regression(X_train, X_test, y_train, y_test, input)"
      ],
      "metadata": {
        "colab": {
          "base_uri": "https://localhost:8080/"
        },
        "id": "0SHG7dk00rNc",
        "outputId": "3b4147f5-7a4e-4d90-cfd0-c638a79b6b96"
      },
      "execution_count": 38,
      "outputs": [
        {
          "output_type": "stream",
          "name": "stderr",
          "text": [
            "<ipython-input-12-f3d292ede06d>:6: DataConversionWarning: A column-vector y was passed when a 1d array was expected. Please change the shape of y to (n_samples,), for example using ravel().\n",
            "  model3.fit(X_train, y_train)\n"
          ]
        },
        {
          "output_type": "stream",
          "name": "stdout",
          "text": [
            "Mean Squared Error (random forest regression): 11.146932395527772\n",
            "Predicting for the new input: [456.1576]\n"
          ]
        }
      ]
    },
    {
      "cell_type": "code",
      "source": [
        "error_gradient , prediction_xgboost = xgboost_regression(X_train, X_test, y_train, y_test, input)"
      ],
      "metadata": {
        "colab": {
          "base_uri": "https://localhost:8080/"
        },
        "id": "N5LyL8gkKIyr",
        "outputId": "ce7a61d2-a63c-450d-8458-0a7bfde70e5a"
      },
      "execution_count": 39,
      "outputs": [
        {
          "output_type": "stream",
          "name": "stdout",
          "text": [
            "Mean Squared Error (gradient boost): 8.711346965173714\n",
            "Predicting for the new input: [454.89572]\n"
          ]
        }
      ]
    },
    {
      "cell_type": "code",
      "source": [
        "errors = np.array([error_linear, error_decision, error_forest, error_gradient])\n",
        "models = ['linear', 'decision tree', 'random forest', 'gradient boost']\n",
        "data = {'error': errors, 'model': models}\n",
        "df = pd.DataFrame(data, columns = ['error', 'model'])\n",
        "df"
      ],
      "metadata": {
        "colab": {
          "base_uri": "https://localhost:8080/",
          "height": 175
        },
        "id": "zCd5aUoI0fhm",
        "outputId": "797af6a6-bf3e-4f2e-cbf7-1818572fbe98"
      },
      "execution_count": 40,
      "outputs": [
        {
          "output_type": "execute_result",
          "data": {
            "text/plain": [
              "       error           model\n",
              "0  21.138206          linear\n",
              "1  19.079020   decision tree\n",
              "2  11.146932   random forest\n",
              "3   8.711347  gradient boost"
            ],
            "text/html": [
              "\n",
              "  <div id=\"df-bfd8d0e6-0e55-46d1-be74-80c41bab6f84\">\n",
              "    <div class=\"colab-df-container\">\n",
              "      <div>\n",
              "<style scoped>\n",
              "    .dataframe tbody tr th:only-of-type {\n",
              "        vertical-align: middle;\n",
              "    }\n",
              "\n",
              "    .dataframe tbody tr th {\n",
              "        vertical-align: top;\n",
              "    }\n",
              "\n",
              "    .dataframe thead th {\n",
              "        text-align: right;\n",
              "    }\n",
              "</style>\n",
              "<table border=\"1\" class=\"dataframe\">\n",
              "  <thead>\n",
              "    <tr style=\"text-align: right;\">\n",
              "      <th></th>\n",
              "      <th>error</th>\n",
              "      <th>model</th>\n",
              "    </tr>\n",
              "  </thead>\n",
              "  <tbody>\n",
              "    <tr>\n",
              "      <th>0</th>\n",
              "      <td>21.138206</td>\n",
              "      <td>linear</td>\n",
              "    </tr>\n",
              "    <tr>\n",
              "      <th>1</th>\n",
              "      <td>19.079020</td>\n",
              "      <td>decision tree</td>\n",
              "    </tr>\n",
              "    <tr>\n",
              "      <th>2</th>\n",
              "      <td>11.146932</td>\n",
              "      <td>random forest</td>\n",
              "    </tr>\n",
              "    <tr>\n",
              "      <th>3</th>\n",
              "      <td>8.711347</td>\n",
              "      <td>gradient boost</td>\n",
              "    </tr>\n",
              "  </tbody>\n",
              "</table>\n",
              "</div>\n",
              "      <button class=\"colab-df-convert\" onclick=\"convertToInteractive('df-bfd8d0e6-0e55-46d1-be74-80c41bab6f84')\"\n",
              "              title=\"Convert this dataframe to an interactive table.\"\n",
              "              style=\"display:none;\">\n",
              "        \n",
              "  <svg xmlns=\"http://www.w3.org/2000/svg\" height=\"24px\"viewBox=\"0 0 24 24\"\n",
              "       width=\"24px\">\n",
              "    <path d=\"M0 0h24v24H0V0z\" fill=\"none\"/>\n",
              "    <path d=\"M18.56 5.44l.94 2.06.94-2.06 2.06-.94-2.06-.94-.94-2.06-.94 2.06-2.06.94zm-11 1L8.5 8.5l.94-2.06 2.06-.94-2.06-.94L8.5 2.5l-.94 2.06-2.06.94zm10 10l.94 2.06.94-2.06 2.06-.94-2.06-.94-.94-2.06-.94 2.06-2.06.94z\"/><path d=\"M17.41 7.96l-1.37-1.37c-.4-.4-.92-.59-1.43-.59-.52 0-1.04.2-1.43.59L10.3 9.45l-7.72 7.72c-.78.78-.78 2.05 0 2.83L4 21.41c.39.39.9.59 1.41.59.51 0 1.02-.2 1.41-.59l7.78-7.78 2.81-2.81c.8-.78.8-2.07 0-2.86zM5.41 20L4 18.59l7.72-7.72 1.47 1.35L5.41 20z\"/>\n",
              "  </svg>\n",
              "      </button>\n",
              "      \n",
              "  <style>\n",
              "    .colab-df-container {\n",
              "      display:flex;\n",
              "      flex-wrap:wrap;\n",
              "      gap: 12px;\n",
              "    }\n",
              "\n",
              "    .colab-df-convert {\n",
              "      background-color: #E8F0FE;\n",
              "      border: none;\n",
              "      border-radius: 50%;\n",
              "      cursor: pointer;\n",
              "      display: none;\n",
              "      fill: #1967D2;\n",
              "      height: 32px;\n",
              "      padding: 0 0 0 0;\n",
              "      width: 32px;\n",
              "    }\n",
              "\n",
              "    .colab-df-convert:hover {\n",
              "      background-color: #E2EBFA;\n",
              "      box-shadow: 0px 1px 2px rgba(60, 64, 67, 0.3), 0px 1px 3px 1px rgba(60, 64, 67, 0.15);\n",
              "      fill: #174EA6;\n",
              "    }\n",
              "\n",
              "    [theme=dark] .colab-df-convert {\n",
              "      background-color: #3B4455;\n",
              "      fill: #D2E3FC;\n",
              "    }\n",
              "\n",
              "    [theme=dark] .colab-df-convert:hover {\n",
              "      background-color: #434B5C;\n",
              "      box-shadow: 0px 1px 3px 1px rgba(0, 0, 0, 0.15);\n",
              "      filter: drop-shadow(0px 1px 2px rgba(0, 0, 0, 0.3));\n",
              "      fill: #FFFFFF;\n",
              "    }\n",
              "  </style>\n",
              "\n",
              "      <script>\n",
              "        const buttonEl =\n",
              "          document.querySelector('#df-bfd8d0e6-0e55-46d1-be74-80c41bab6f84 button.colab-df-convert');\n",
              "        buttonEl.style.display =\n",
              "          google.colab.kernel.accessAllowed ? 'block' : 'none';\n",
              "\n",
              "        async function convertToInteractive(key) {\n",
              "          const element = document.querySelector('#df-bfd8d0e6-0e55-46d1-be74-80c41bab6f84');\n",
              "          const dataTable =\n",
              "            await google.colab.kernel.invokeFunction('convertToInteractive',\n",
              "                                                     [key], {});\n",
              "          if (!dataTable) return;\n",
              "\n",
              "          const docLinkHtml = 'Like what you see? Visit the ' +\n",
              "            '<a target=\"_blank\" href=https://colab.research.google.com/notebooks/data_table.ipynb>data table notebook</a>'\n",
              "            + ' to learn more about interactive tables.';\n",
              "          element.innerHTML = '';\n",
              "          dataTable['output_type'] = 'display_data';\n",
              "          await google.colab.output.renderOutput(dataTable, element);\n",
              "          const docLink = document.createElement('div');\n",
              "          docLink.innerHTML = docLinkHtml;\n",
              "          element.appendChild(docLink);\n",
              "        }\n",
              "      </script>\n",
              "    </div>\n",
              "  </div>\n",
              "  "
            ]
          },
          "metadata": {},
          "execution_count": 40
        }
      ]
    },
    {
      "cell_type": "code",
      "source": [
        "sns.barplot(data=df, x=\"model\", y=\"error\")"
      ],
      "metadata": {
        "colab": {
          "base_uri": "https://localhost:8080/",
          "height": 466
        },
        "id": "myBKa4LZ2Kwv",
        "outputId": "83916c4f-02a2-4ca3-b0de-a9c5a8f355f0"
      },
      "execution_count": 41,
      "outputs": [
        {
          "output_type": "execute_result",
          "data": {
            "text/plain": [
              "<Axes: xlabel='model', ylabel='error'>"
            ]
          },
          "metadata": {},
          "execution_count": 41
        },
        {
          "output_type": "display_data",
          "data": {
            "text/plain": [
              "<Figure size 640x480 with 1 Axes>"
            ],
            "image/png": "[encoded data removed]"
          },
          "metadata": {}
        }
      ]
    },
    {
      "cell_type": "markdown",
      "source": [
        "# Optimization task"
      ],
      "metadata": {
        "id": "jgSMMMjBrTdn"
      }
    },
    {
      "cell_type": "code",
      "source": [
        "import numpy as np\n",
        "from scipy.optimize import minimize\n",
        "\n",
        "model4 = XGBRegressor(n_estimators=2000, learning_rate=0.0405)\n",
        "\n",
        "  # Fit the model\n",
        "model4.fit(X_train, y_train) # Your code here\n",
        "\n",
        "def objective_function(x):\n",
        "    temperature, exhaust_vacuum, ambient_pressure, relative_humidity = x\n",
        "    return exhaust_vacuum  # Objective: minimize exhaust vacuum\n",
        "\n",
        "def energy_constraint(x):\n",
        "    temperature, exhaust_vacuum, ambient_pressure, relative_humidity = x\n",
        "    energy = model4.predict(x.reshape(1,-1)) # Energy calculation\n",
        "    return energy - 450  # Constraint: energy >= 450\n",
        "\n",
        "# Initial guess for the feature values\n",
        "x0 = np.array([19.0, 54.0, 1013.0, 73.0])\n",
        "\n",
        "# Bounds for the feature values\n",
        "bounds = [(None, None), (None, None), (None, None), (None, None)]  # No specific bounds set\n",
        "\n",
        "# Constraint definition\n",
        "constraint = {'type': 'ineq', 'fun': energy_constraint}\n",
        "\n",
        "# Optimization process\n",
        "result = minimize(objective_function, x0, method='SLSQP', bounds=bounds, constraints=constraint)\n",
        "\n",
        "# Print the optimized feature values and the minimized exhaust vacuum\n",
        "print('Optimized Feature Values:')\n",
        "print('Temperature:', result.x[0])\n",
        "print('Exhaust Vacuum:', result.x[1])\n",
        "print('Ambient Pressure:', result.x[2])\n",
        "print('Relative Humidity:', result.x[3])\n",
        "print('Minimized Exhaust Vacuum:', result.fun)"
      ],
      "metadata": {
        "colab": {
          "base_uri": "https://localhost:8080/"
        },
        "id": "J4xFwbKHhJVn",
        "outputId": "b7d92d05-5db2-4435-bc77-90fb25f0ca01"
      },
      "execution_count": null,
      "outputs": [
        {
          "output_type": "stream",
          "name": "stdout",
          "text": [
            "Optimized Feature Values:\n",
            "Temperature: 19.0\n",
            "Exhaust Vacuum: -7.105427357601028e+30\n",
            "Ambient Pressure: 1013.0\n",
            "Relative Humidity: 73.0\n",
            "Minimized Exhaust Vacuum: -7.105427357601028e+30\n"
          ]
        }
      ]
    }
  ]
}