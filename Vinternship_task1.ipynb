{
  "nbformat": 4,
  "nbformat_minor": 0,
  "metadata": {
    "colab": {
      "provenance": [],
      "collapsed_sections": [
        "upH-E84T4Upz",
        "HXs3DXn4v8Q_",
        "I1B5N2-KwfZ7",
        "3o6ICEYLHSxq",
        "NwxYbiodyWSY",
        "VP5KKMb1HlWb",
        "HPuaRa-S2GrC",
        "DpTPeUvo56Ja"
      ]
    },
    "kernelspec": {
      "name": "python3",
      "display_name": "Python 3"
    },
    "language_info": {
      "name": "python"
    }
  },
  "cells": [
    {
      "cell_type": "markdown",
      "source": [
        "# Setup"
      ],
      "metadata": {
        "id": "upH-E84T4Upz"
      }
    },
    {
      "cell_type": "code",
      "execution_count": 118,
      "metadata": {
        "colab": {
          "base_uri": "https://localhost:8080/"
        },
        "id": "n6cFjXRE5l_Q",
        "outputId": "b2ac70bc-cf31-4a8e-ad87-f8ef18bd80bb"
      },
      "outputs": [
        {
          "output_type": "stream",
          "name": "stderr",
          "text": [
            "Retrieving folder list\n"
          ]
        },
        {
          "output_type": "stream",
          "name": "stdout",
          "text": [
            "Processing file 1SJL9Rb-gMixa8qIdrIyr5Oh56Vssr3DH Group 4.xlsx\n",
            "Building directory structure completed\n"
          ]
        },
        {
          "output_type": "stream",
          "name": "stderr",
          "text": [
            "Retrieving folder list completed\n",
            "Building directory structure\n",
            "Downloading...\n",
            "From: https://drive.google.com/uc?id=1SJL9Rb-gMixa8qIdrIyr5Oh56Vssr3DH\n",
            "To: /content/Vinternship2023/Group 4.xlsx\n",
            "100%|██████████| 233k/233k [00:00<00:00, 64.5MB/s]\n",
            "Download completed\n"
          ]
        },
        {
          "output_type": "stream",
          "name": "stdout",
          "text": [
            "Downloading...\n",
            "From: https://drive.google.com/uc?id=1SJL9Rb-gMixa8qIdrIyr5Oh56Vssr3DH\n",
            "To: /content/Group 4.xlsx\n",
            "\r  0% 0.00/233k [00:00<?, ?B/s]\r100% 233k/233k [00:00<00:00, 146MB/s]\n"
          ]
        }
      ],
      "source": [
        "# # This chunk works.\n",
        "# !pip uninstall --yes gdown # After running this line, restart Colab runtime.\n",
        "\n",
        "# !pip install gdown -U --no-cache-dir\n",
        "import gdown\n",
        "\n",
        "url = ' https://drive.google.com/drive/folders/1RvblHYInK63R1_-yo4kbxd6NnggNtr01?usp=drive_link'\n",
        "\n",
        "gdown.download_folder(url)\n",
        "!gdown 1SJL9Rb-gMixa8qIdrIyr5Oh56Vssr3DH"
      ]
    },
    {
      "cell_type": "markdown",
      "source": [
        "# Loading the dataset"
      ],
      "metadata": {
        "id": "HXs3DXn4v8Q_"
      }
    },
    {
      "cell_type": "code",
      "source": [
        "import pandas as pd\n",
        "df=pd.read_excel(\"/content/Group 4.xlsx\")\n",
        "df.head()"
      ],
      "metadata": {
        "colab": {
          "base_uri": "https://localhost:8080/",
          "height": 0
        },
        "id": "nZ5id1Il8_Zh",
        "outputId": "b8d29c2a-adfc-4360-c276-be29311086fc"
      },
      "execution_count": 119,
      "outputs": [
        {
          "output_type": "execute_result",
          "data": {
            "text/plain": [
              "  temperature;exhaust_vacuum;ambient_pressure;relative_humidity;energy_output\n",
              "0                      9.59;38.56;1017.01;60.1;481.3                         \n",
              "1                   12.04;42.34;1019.72;94.67;465.36                         \n",
              "2                   13.87;45.08;1024.42;81.69;465.48                         \n",
              "3                    13.72;54.3;1017.89;79.08;467.05                         \n",
              "4                      15.14;49.64;1023.78;75;463.58                         "
            ],
            "text/html": [
              "\n",
              "  <div id=\"df-58e7c7fe-eff5-429a-95c4-460497111623\">\n",
              "    <div class=\"colab-df-container\">\n",
              "      <div>\n",
              "<style scoped>\n",
              "    .dataframe tbody tr th:only-of-type {\n",
              "        vertical-align: middle;\n",
              "    }\n",
              "\n",
              "    .dataframe tbody tr th {\n",
              "        vertical-align: top;\n",
              "    }\n",
              "\n",
              "    .dataframe thead th {\n",
              "        text-align: right;\n",
              "    }\n",
              "</style>\n",
              "<table border=\"1\" class=\"dataframe\">\n",
              "  <thead>\n",
              "    <tr style=\"text-align: right;\">\n",
              "      <th></th>\n",
              "      <th>temperature;exhaust_vacuum;ambient_pressure;relative_humidity;energy_output</th>\n",
              "    </tr>\n",
              "  </thead>\n",
              "  <tbody>\n",
              "    <tr>\n",
              "      <th>0</th>\n",
              "      <td>9.59;38.56;1017.01;60.1;481.3</td>\n",
              "    </tr>\n",
              "    <tr>\n",
              "      <th>1</th>\n",
              "      <td>12.04;42.34;1019.72;94.67;465.36</td>\n",
              "    </tr>\n",
              "    <tr>\n",
              "      <th>2</th>\n",
              "      <td>13.87;45.08;1024.42;81.69;465.48</td>\n",
              "    </tr>\n",
              "    <tr>\n",
              "      <th>3</th>\n",
              "      <td>13.72;54.3;1017.89;79.08;467.05</td>\n",
              "    </tr>\n",
              "    <tr>\n",
              "      <th>4</th>\n",
              "      <td>15.14;49.64;1023.78;75;463.58</td>\n",
              "    </tr>\n",
              "  </tbody>\n",
              "</table>\n",
              "</div>\n",
              "      <button class=\"colab-df-convert\" onclick=\"convertToInteractive('df-58e7c7fe-eff5-429a-95c4-460497111623')\"\n",
              "              title=\"Convert this dataframe to an interactive table.\"\n",
              "              style=\"display:none;\">\n",
              "        \n",
              "  <svg xmlns=\"http://www.w3.org/2000/svg\" height=\"24px\"viewBox=\"0 0 24 24\"\n",
              "       width=\"24px\">\n",
              "    <path d=\"M0 0h24v24H0V0z\" fill=\"none\"/>\n",
              "    <path d=\"M18.56 5.44l.94 2.06.94-2.06 2.06-.94-2.06-.94-.94-2.06-.94 2.06-2.06.94zm-11 1L8.5 8.5l.94-2.06 2.06-.94-2.06-.94L8.5 2.5l-.94 2.06-2.06.94zm10 10l.94 2.06.94-2.06 2.06-.94-2.06-.94-.94-2.06-.94 2.06-2.06.94z\"/><path d=\"M17.41 7.96l-1.37-1.37c-.4-.4-.92-.59-1.43-.59-.52 0-1.04.2-1.43.59L10.3 9.45l-7.72 7.72c-.78.78-.78 2.05 0 2.83L4 21.41c.39.39.9.59 1.41.59.51 0 1.02-.2 1.41-.59l7.78-7.78 2.81-2.81c.8-.78.8-2.07 0-2.86zM5.41 20L4 18.59l7.72-7.72 1.47 1.35L5.41 20z\"/>\n",
              "  </svg>\n",
              "      </button>\n",
              "      \n",
              "  <style>\n",
              "    .colab-df-container {\n",
              "      display:flex;\n",
              "      flex-wrap:wrap;\n",
              "      gap: 12px;\n",
              "    }\n",
              "\n",
              "    .colab-df-convert {\n",
              "      background-color: #E8F0FE;\n",
              "      border: none;\n",
              "      border-radius: 50%;\n",
              "      cursor: pointer;\n",
              "      display: none;\n",
              "      fill: #1967D2;\n",
              "      height: 32px;\n",
              "      padding: 0 0 0 0;\n",
              "      width: 32px;\n",
              "    }\n",
              "\n",
              "    .colab-df-convert:hover {\n",
              "      background-color: #E2EBFA;\n",
              "      box-shadow: 0px 1px 2px rgba(60, 64, 67, 0.3), 0px 1px 3px 1px rgba(60, 64, 67, 0.15);\n",
              "      fill: #174EA6;\n",
              "    }\n",
              "\n",
              "    [theme=dark] .colab-df-convert {\n",
              "      background-color: #3B4455;\n",
              "      fill: #D2E3FC;\n",
              "    }\n",
              "\n",
              "    [theme=dark] .colab-df-convert:hover {\n",
              "      background-color: #434B5C;\n",
              "      box-shadow: 0px 1px 3px 1px rgba(0, 0, 0, 0.15);\n",
              "      filter: drop-shadow(0px 1px 2px rgba(0, 0, 0, 0.3));\n",
              "      fill: #FFFFFF;\n",
              "    }\n",
              "  </style>\n",
              "\n",
              "      <script>\n",
              "        const buttonEl =\n",
              "          document.querySelector('#df-58e7c7fe-eff5-429a-95c4-460497111623 button.colab-df-convert');\n",
              "        buttonEl.style.display =\n",
              "          google.colab.kernel.accessAllowed ? 'block' : 'none';\n",
              "\n",
              "        async function convertToInteractive(key) {\n",
              "          const element = document.querySelector('#df-58e7c7fe-eff5-429a-95c4-460497111623');\n",
              "          const dataTable =\n",
              "            await google.colab.kernel.invokeFunction('convertToInteractive',\n",
              "                                                     [key], {});\n",
              "          if (!dataTable) return;\n",
              "\n",
              "          const docLinkHtml = 'Like what you see? Visit the ' +\n",
              "            '<a target=\"_blank\" href=https://colab.research.google.com/notebooks/data_table.ipynb>data table notebook</a>'\n",
              "            + ' to learn more about interactive tables.';\n",
              "          element.innerHTML = '';\n",
              "          dataTable['output_type'] = 'display_data';\n",
              "          await google.colab.output.renderOutput(dataTable, element);\n",
              "          const docLink = document.createElement('div');\n",
              "          docLink.innerHTML = docLinkHtml;\n",
              "          element.appendChild(docLink);\n",
              "        }\n",
              "      </script>\n",
              "    </div>\n",
              "  </div>\n",
              "  "
            ]
          },
          "metadata": {},
          "execution_count": 119
        }
      ]
    },
    {
      "cell_type": "code",
      "source": [
        "print(df.shape)\n",
        "data=df.iloc[:]\n",
        "values=data[\"temperature;exhaust_vacuum;ambient_pressure;relative_humidity;energy_output\"]\n",
        "values.shape"
      ],
      "metadata": {
        "colab": {
          "base_uri": "https://localhost:8080/"
        },
        "id": "qa0cbX6y-E8y",
        "outputId": "5341ab7e-84c4-4833-deb3-b9fde63b34e5"
      },
      "execution_count": 120,
      "outputs": [
        {
          "output_type": "stream",
          "name": "stdout",
          "text": [
            "(9568, 1)\n"
          ]
        },
        {
          "output_type": "execute_result",
          "data": {
            "text/plain": [
              "(9568,)"
            ]
          },
          "metadata": {},
          "execution_count": 120
        }
      ]
    },
    {
      "cell_type": "markdown",
      "source": [
        "# Take-away\n",
        "\n",
        "We find 4 input features and 1 target output"
      ],
      "metadata": {
        "id": "I1B5N2-KwfZ7"
      }
    },
    {
      "cell_type": "code",
      "source": [
        "import numpy as np\n",
        "\n",
        "all_x=np.zeros((9568,4))\n",
        "all_y=np.zeros((9568,1))"
      ],
      "metadata": {
        "id": "FLAoWM1U-ZW1"
      },
      "execution_count": 121,
      "outputs": []
    },
    {
      "cell_type": "code",
      "source": [
        "row=0\n",
        "for value in values:\n",
        "  \n",
        "  string=value.split(\";\")\n",
        "  all_x[row][0]=string[0]\n",
        "  all_x[row][1]=string[1]\n",
        "  all_x[row][2]=string[2]\n",
        "  all_x[row][3]=string[3]\n",
        "  all_y[row][0]=string[4]\n",
        "  row+=1\n",
        "print(\"feature inputs\", all_x)"
      ],
      "metadata": {
        "colab": {
          "base_uri": "https://localhost:8080/"
        },
        "id": "YEjKkgiZ-l40",
        "outputId": "390c7730-4f37-4bb3-f92d-dee9d7ddc10f"
      },
      "execution_count": 122,
      "outputs": [
        {
          "output_type": "stream",
          "name": "stdout",
          "text": [
            "feature inputs [[   9.59   38.56 1017.01   60.1 ]\n",
            " [  12.04   42.34 1019.72   94.67]\n",
            " [  13.87   45.08 1024.42   81.69]\n",
            " ...\n",
            " [  30.44   56.24 1005.19   56.24]\n",
            " [  23.     66.05 1020.61   80.29]\n",
            " [  17.75   49.25 1020.86   63.67]]\n"
          ]
        }
      ]
    },
    {
      "cell_type": "code",
      "source": [
        "print(\"target outputs\", all_y)"
      ],
      "metadata": {
        "colab": {
          "base_uri": "https://localhost:8080/"
        },
        "id": "HBDIGWz0yOZb",
        "outputId": "cd296eca-4c38-438b-eee6-d5911dbcdc36"
      },
      "execution_count": 123,
      "outputs": [
        {
          "output_type": "stream",
          "name": "stdout",
          "text": [
            "target outputs [[481.3 ]\n",
            " [465.36]\n",
            " [465.48]\n",
            " ...\n",
            " [429.34]\n",
            " [421.57]\n",
            " [454.41]]\n"
          ]
        }
      ]
    },
    {
      "cell_type": "markdown",
      "source": [
        "# Model imports and train-test split"
      ],
      "metadata": {
        "id": "3o6ICEYLHSxq"
      }
    },
    {
      "cell_type": "code",
      "source": [
        "from sklearn.linear_model import LinearRegression\n",
        "from sklearn.tree import DecisionTreeRegressor\n",
        "from sklearn.ensemble import RandomForestRegressor\n",
        "from sklearn.model_selection import train_test_split\n",
        "from sklearn.metrics import mean_squared_error\n",
        "import matplotlib.pyplot as plt"
      ],
      "metadata": {
        "id": "8l0kkzoz-1iH"
      },
      "execution_count": 124,
      "outputs": []
    },
    {
      "cell_type": "code",
      "source": [
        "# Split the data into training and testing sets\n",
        "X_train, X_test, y_train, y_test = train_test_split(all_x, all_y, test_size=0.1, random_state=42)\n"
      ],
      "metadata": {
        "id": "F9ASsDUK2iSW"
      },
      "execution_count": 125,
      "outputs": []
    },
    {
      "cell_type": "markdown",
      "source": [
        "# Running a linear regression model"
      ],
      "metadata": {
        "id": "NwxYbiodyWSY"
      }
    },
    {
      "cell_type": "code",
      "source": [
        "def linear_regression(X_train, X_test, y_train, y_test, input):\n",
        "  # Create a linear regression model\n",
        "  model1 = LinearRegression()\n",
        "  # Train the model\n",
        "  model1.fit(X_train, y_train)\n",
        "\n",
        "  # Make predictions on the test set\n",
        "  y_pred = model1.predict(X_test)\n",
        "\n",
        "  # # plotting\n",
        "  # plt.scatter(X_train[0:,1], y_train, color = 'g')\n",
        "  # plt.plot(X_test[0:,1], y_pred, color = 'r')\n",
        "  \n",
        "  # Calculate the mean squared error\n",
        "  mse = mean_squared_error(y_test, y_pred)\n",
        "  print(\"Mean Squared Error (linear regression):\", mse)\n",
        "  \n",
        "  prediction = model1.predict(input)\n",
        "  print(\"Predicting for the new input:\", prediction)\n",
        "  # print(\"Actual output for the second set of values:\", all_y[1])"
      ],
      "metadata": {
        "id": "QUPXsVnTzI_-"
      },
      "execution_count": 105,
      "outputs": []
    },
    {
      "cell_type": "markdown",
      "source": [
        "# Running decision tree and random forest regression models"
      ],
      "metadata": {
        "id": "VP5KKMb1HlWb"
      }
    },
    {
      "cell_type": "code",
      "source": [
        "def decision_tree_regression(X_train, X_test, y_train, y_test, input):\n",
        "  \n",
        "  # Create a linear regression model\n",
        "  model2 = DecisionTreeRegressor(random_state = 1)\n",
        "  # Train the model\n",
        "  model2.fit(X_train, y_train)\n",
        "\n",
        "  # Make predictions on the test set\n",
        "  y_pred = model2.predict(X_test)\n",
        "\n",
        "  # Calculate the mean squared error\n",
        "  mse = mean_squared_error(y_test, y_pred)\n",
        "  print(\"Mean Squared Error (decision tree regression):\", mse)\n",
        "\n",
        "  prediction = model2.predict(input)\n",
        "  print(\"Predicting for the new input:\", prediction)"
      ],
      "metadata": {
        "id": "rhPSTTiyGWJH"
      },
      "execution_count": 126,
      "outputs": []
    },
    {
      "cell_type": "code",
      "source": [
        "def random_forest_regression(X_train, X_test, y_train, y_test, input):\n",
        "  \n",
        "  # Create a linear regression model\n",
        "  model3 = RandomForestRegressor()\n",
        "  # Train the model\n",
        "  model3.fit(X_train, y_train)\n",
        "\n",
        "  # Make predictions on the test set\n",
        "  y_pred = model3.predict(X_test)\n",
        "\n",
        "  # Calculate the mean squared error\n",
        "  mse = mean_squared_error(y_test, y_pred)\n",
        "  print(\"Mean Squared Error (random forest regression):\", mse)\n",
        "\n",
        "  prediction = model3.predict(input)\n",
        "  print(\"Predicting for the new input:\", prediction)"
      ],
      "metadata": {
        "id": "cTZge_C9KjNA"
      },
      "execution_count": 127,
      "outputs": []
    },
    {
      "cell_type": "markdown",
      "source": [
        "# Running a gradient boost regression model"
      ],
      "metadata": {
        "id": "HPuaRa-S2GrC"
      }
    },
    {
      "cell_type": "code",
      "source": [
        "from xgboost import XGBRegressor\n",
        "\n",
        "def xgboost_regression(X_train, X_test, y_train, y_test, input):\n",
        "  \n",
        "  # Define the model\n",
        "  model4 = XGBRegressor(n_estimators=2000, learning_rate=0.0405)\n",
        "\n",
        "  # Fit the model\n",
        "  model4.fit(X_train, y_train) # Your code here\n",
        "\n",
        "  y_pred_XGB = model4.predict(X_test)\n",
        "\n",
        "  # Calculate the mean squared error\n",
        "  mse = mean_squared_error(y_test, y_pred_XGB)\n",
        "  print(\"Mean Squared Error (gradient boost):\", mse)\n",
        "  \n",
        "  prediction = model4.predict(input)\n",
        "  print(\"Predicting for the new input:\", prediction)"
      ],
      "metadata": {
        "id": "t5SoC9S7K14Y"
      },
      "execution_count": 128,
      "outputs": []
    },
    {
      "cell_type": "markdown",
      "source": [
        "# Error comparison and prediction for new input"
      ],
      "metadata": {
        "id": "DpTPeUvo56Ja"
      }
    },
    {
      "cell_type": "code",
      "source": [
        "input = [[19.0, 54.0, 1013.0, 73.0]]"
      ],
      "metadata": {
        "id": "MVHvyzAW_7O2"
      },
      "execution_count": 129,
      "outputs": []
    },
    {
      "cell_type": "code",
      "source": [
        "linear_regression(X_train, X_test, y_train, y_test, input)"
      ],
      "metadata": {
        "colab": {
          "base_uri": "https://localhost:8080/"
        },
        "id": "mFMFa6pB8gYr",
        "outputId": "8fb56927-27b1-4674-cbde-f9bf8b19dabb"
      },
      "execution_count": 130,
      "outputs": [
        {
          "output_type": "stream",
          "name": "stdout",
          "text": [
            "Mean Squared Error (linear regression): 21.138205780598557\n",
            "Predicting for the new input: [[455.75179545]]\n"
          ]
        }
      ]
    },
    {
      "cell_type": "code",
      "source": [
        "decision_tree_regression(X_train, X_test, y_train, y_test, input)"
      ],
      "metadata": {
        "colab": {
          "base_uri": "https://localhost:8080/"
        },
        "id": "GnMMUlDbGoW6",
        "outputId": "a6493bf1-2328-4178-de2c-9d3b3e8fd0f0"
      },
      "execution_count": 131,
      "outputs": [
        {
          "output_type": "stream",
          "name": "stdout",
          "text": [
            "Mean Squared Error (decision tree regression): 19.079019540229872\n",
            "Predicting for the new input: [457.5]\n"
          ]
        }
      ]
    },
    {
      "cell_type": "code",
      "source": [
        "random_forest_regression(X_train, X_test, y_train, y_test, input)"
      ],
      "metadata": {
        "colab": {
          "base_uri": "https://localhost:8080/"
        },
        "id": "0SHG7dk00rNc",
        "outputId": "62ace37f-7610-4c29-dd62-ca6fd3d43082"
      },
      "execution_count": 132,
      "outputs": [
        {
          "output_type": "stream",
          "name": "stderr",
          "text": [
            "<ipython-input-127-5935c89d57ca>:6: DataConversionWarning: A column-vector y was passed when a 1d array was expected. Please change the shape of y to (n_samples,), for example using ravel().\n",
            "  model3.fit(X_train, y_train)\n"
          ]
        },
        {
          "output_type": "stream",
          "name": "stdout",
          "text": [
            "Mean Squared Error (random forest regression): 11.010888710376172\n",
            "Predicting for the new input: [455.9453]\n"
          ]
        }
      ]
    },
    {
      "cell_type": "code",
      "source": [
        "xgboost_regression(X_train, X_test, y_train, y_test, input)"
      ],
      "metadata": {
        "colab": {
          "base_uri": "https://localhost:8080/"
        },
        "id": "N5LyL8gkKIyr",
        "outputId": "4419986f-3d96-4f17-b19a-85d79e4521b6"
      },
      "execution_count": 133,
      "outputs": [
        {
          "output_type": "stream",
          "name": "stdout",
          "text": [
            "Mean Squared Error (gradient boost): 8.711346965173714\n",
            "Predicting for the new input: [454.89572]\n"
          ]
        }
      ]
    },
    {
      "cell_type": "code",
      "source": [],
      "metadata": {
        "id": "qgI-avZAH12r"
      },
      "execution_count": null,
      "outputs": []
    }
  ]
}