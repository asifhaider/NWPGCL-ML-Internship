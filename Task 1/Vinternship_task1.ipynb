{
  "nbformat": 4,
  "nbformat_minor": 0,
  "metadata": {
    "colab": {
      "provenance": [],
      "collapsed_sections": [
        "upH-E84T4Upz",
        "HXs3DXn4v8Q_",
        "I1B5N2-KwfZ7",
        "3o6ICEYLHSxq",
        "NwxYbiodyWSY",
        "VP5KKMb1HlWb",
        "HPuaRa-S2GrC",
        "DpTPeUvo56Ja"
      ],
      "gpuType": "T4"
    },
    "kernelspec": {
      "name": "python3",
      "display_name": "Python 3"
    },
    "language_info": {
      "name": "python"
    },
    "accelerator": "GPU"
  },
  "cells": [
    {
      "cell_type": "markdown",
      "source": [
        "# Setup"
      ],
      "metadata": {
        "id": "upH-E84T4Upz"
      }
    },
    {
      "cell_type": "code",
      "execution_count": null,
      "metadata": {
        "colab": {
          "base_uri": "https://localhost:8080/"
        },
        "id": "n6cFjXRE5l_Q",
        "outputId": "74e9293e-62aa-4972-e97e-73dfb05649b2"
      },
      "outputs": [
        {
          "output_type": "stream",
          "name": "stderr",
          "text": [
            "Retrieving folder list\n"
          ]
        },
        {
          "output_type": "stream",
          "name": "stdout",
          "text": [
            "Processing file 1SJL9Rb-gMixa8qIdrIyr5Oh56Vssr3DH Group 4.xlsx\n",
            "Building directory structure completed\n"
          ]
        },
        {
          "output_type": "stream",
          "name": "stderr",
          "text": [
            "Retrieving folder list completed\n",
            "Building directory structure\n",
            "Downloading...\n",
            "From: https://drive.google.com/uc?id=1SJL9Rb-gMixa8qIdrIyr5Oh56Vssr3DH\n",
            "To: /content/Vinternship2023/Group 4.xlsx\n",
            "100%|██████████| 233k/233k [00:00<00:00, 64.5MB/s]\n",
            "Download completed\n"
          ]
        },
        {
          "output_type": "stream",
          "name": "stdout",
          "text": [
            "Downloading...\n",
            "From: https://drive.google.com/uc?id=1SJL9Rb-gMixa8qIdrIyr5Oh56Vssr3DH\n",
            "To: /content/Group 4.xlsx\n",
            "\r  0% 0.00/233k [00:00<?, ?B/s]\r100% 233k/233k [00:00<00:00, 125MB/s]\n"
          ]
        }
      ],
      "source": [
        "# # This chunk works.\n",
        "# !pip uninstall --yes gdown # After running this line, restart Colab runtime.\n",
        "\n",
        "# !pip install gdown -U --no-cache-dir\n",
        "import gdown\n",
        "\n",
        "url = ' https://drive.google.com/drive/folders/1RvblHYInK63R1_-yo4kbxd6NnggNtr01?usp=drive_link'\n",
        "\n",
        "gdown.download_folder(url)\n",
        "!gdown 1SJL9Rb-gMixa8qIdrIyr5Oh56Vssr3DH"
      ]
    },
    {
      "cell_type": "markdown",
      "source": [
        "# Loading the dataset"
      ],
      "metadata": {
        "id": "HXs3DXn4v8Q_"
      }
    },
    {
      "cell_type": "code",
      "source": [
        "from google.colab import drive\n",
        "drive.mount('/content/drive')"
      ],
      "metadata": {
        "id": "yQDKiCKfS8HB"
      },
      "execution_count": null,
      "outputs": []
    },
    {
      "cell_type": "code",
      "source": [
        "import pandas as pd\n",
        "df=pd.read_excel(\"/content/Group 4.xlsx\")\n",
        "df.head()"
      ],
      "metadata": {
        "colab": {
          "base_uri": "https://localhost:8080/",
          "height": 206
        },
        "id": "nZ5id1Il8_Zh",
        "outputId": "7ef7e979-b578-4863-c77d-53585705abc7"
      },
      "execution_count": 2,
      "outputs": [
        {
          "output_type": "execute_result",
          "data": {
            "text/plain": [
              "  temperature;exhaust_vacuum;ambient_pressure;relative_humidity;energy_output\n",
              "0                      9.59;38.56;1017.01;60.1;481.3                         \n",
              "1                   12.04;42.34;1019.72;94.67;465.36                         \n",
              "2                   13.87;45.08;1024.42;81.69;465.48                         \n",
              "3                    13.72;54.3;1017.89;79.08;467.05                         \n",
              "4                      15.14;49.64;1023.78;75;463.58                         "
            ],
            "text/html": [
              "\n",
              "  <div id=\"df-38635e13-f757-41e7-9cc3-5d2978e1e2c2\">\n",
              "    <div class=\"colab-df-container\">\n",
              "      <div>\n",
              "<style scoped>\n",
              "    .dataframe tbody tr th:only-of-type {\n",
              "        vertical-align: middle;\n",
              "    }\n",
              "\n",
              "    .dataframe tbody tr th {\n",
              "        vertical-align: top;\n",
              "    }\n",
              "\n",
              "    .dataframe thead th {\n",
              "        text-align: right;\n",
              "    }\n",
              "</style>\n",
              "<table border=\"1\" class=\"dataframe\">\n",
              "  <thead>\n",
              "    <tr style=\"text-align: right;\">\n",
              "      <th></th>\n",
              "      <th>temperature;exhaust_vacuum;ambient_pressure;relative_humidity;energy_output</th>\n",
              "    </tr>\n",
              "  </thead>\n",
              "  <tbody>\n",
              "    <tr>\n",
              "      <th>0</th>\n",
              "      <td>9.59;38.56;1017.01;60.1;481.3</td>\n",
              "    </tr>\n",
              "    <tr>\n",
              "      <th>1</th>\n",
              "      <td>12.04;42.34;1019.72;94.67;465.36</td>\n",
              "    </tr>\n",
              "    <tr>\n",
              "      <th>2</th>\n",
              "      <td>13.87;45.08;1024.42;81.69;465.48</td>\n",
              "    </tr>\n",
              "    <tr>\n",
              "      <th>3</th>\n",
              "      <td>13.72;54.3;1017.89;79.08;467.05</td>\n",
              "    </tr>\n",
              "    <tr>\n",
              "      <th>4</th>\n",
              "      <td>15.14;49.64;1023.78;75;463.58</td>\n",
              "    </tr>\n",
              "  </tbody>\n",
              "</table>\n",
              "</div>\n",
              "      <button class=\"colab-df-convert\" onclick=\"convertToInteractive('df-38635e13-f757-41e7-9cc3-5d2978e1e2c2')\"\n",
              "              title=\"Convert this dataframe to an interactive table.\"\n",
              "              style=\"display:none;\">\n",
              "        \n",
              "  <svg xmlns=\"http://www.w3.org/2000/svg\" height=\"24px\"viewBox=\"0 0 24 24\"\n",
              "       width=\"24px\">\n",
              "    <path d=\"M0 0h24v24H0V0z\" fill=\"none\"/>\n",
              "    <path d=\"M18.56 5.44l.94 2.06.94-2.06 2.06-.94-2.06-.94-.94-2.06-.94 2.06-2.06.94zm-11 1L8.5 8.5l.94-2.06 2.06-.94-2.06-.94L8.5 2.5l-.94 2.06-2.06.94zm10 10l.94 2.06.94-2.06 2.06-.94-2.06-.94-.94-2.06-.94 2.06-2.06.94z\"/><path d=\"M17.41 7.96l-1.37-1.37c-.4-.4-.92-.59-1.43-.59-.52 0-1.04.2-1.43.59L10.3 9.45l-7.72 7.72c-.78.78-.78 2.05 0 2.83L4 21.41c.39.39.9.59 1.41.59.51 0 1.02-.2 1.41-.59l7.78-7.78 2.81-2.81c.8-.78.8-2.07 0-2.86zM5.41 20L4 18.59l7.72-7.72 1.47 1.35L5.41 20z\"/>\n",
              "  </svg>\n",
              "      </button>\n",
              "      \n",
              "  <style>\n",
              "    .colab-df-container {\n",
              "      display:flex;\n",
              "      flex-wrap:wrap;\n",
              "      gap: 12px;\n",
              "    }\n",
              "\n",
              "    .colab-df-convert {\n",
              "      background-color: #E8F0FE;\n",
              "      border: none;\n",
              "      border-radius: 50%;\n",
              "      cursor: pointer;\n",
              "      display: none;\n",
              "      fill: #1967D2;\n",
              "      height: 32px;\n",
              "      padding: 0 0 0 0;\n",
              "      width: 32px;\n",
              "    }\n",
              "\n",
              "    .colab-df-convert:hover {\n",
              "      background-color: #E2EBFA;\n",
              "      box-shadow: 0px 1px 2px rgba(60, 64, 67, 0.3), 0px 1px 3px 1px rgba(60, 64, 67, 0.15);\n",
              "      fill: #174EA6;\n",
              "    }\n",
              "\n",
              "    [theme=dark] .colab-df-convert {\n",
              "      background-color: #3B4455;\n",
              "      fill: #D2E3FC;\n",
              "    }\n",
              "\n",
              "    [theme=dark] .colab-df-convert:hover {\n",
              "      background-color: #434B5C;\n",
              "      box-shadow: 0px 1px 3px 1px rgba(0, 0, 0, 0.15);\n",
              "      filter: drop-shadow(0px 1px 2px rgba(0, 0, 0, 0.3));\n",
              "      fill: #FFFFFF;\n",
              "    }\n",
              "  </style>\n",
              "\n",
              "      <script>\n",
              "        const buttonEl =\n",
              "          document.querySelector('#df-38635e13-f757-41e7-9cc3-5d2978e1e2c2 button.colab-df-convert');\n",
              "        buttonEl.style.display =\n",
              "          google.colab.kernel.accessAllowed ? 'block' : 'none';\n",
              "\n",
              "        async function convertToInteractive(key) {\n",
              "          const element = document.querySelector('#df-38635e13-f757-41e7-9cc3-5d2978e1e2c2');\n",
              "          const dataTable =\n",
              "            await google.colab.kernel.invokeFunction('convertToInteractive',\n",
              "                                                     [key], {});\n",
              "          if (!dataTable) return;\n",
              "\n",
              "          const docLinkHtml = 'Like what you see? Visit the ' +\n",
              "            '<a target=\"_blank\" href=https://colab.research.google.com/notebooks/data_table.ipynb>data table notebook</a>'\n",
              "            + ' to learn more about interactive tables.';\n",
              "          element.innerHTML = '';\n",
              "          dataTable['output_type'] = 'display_data';\n",
              "          await google.colab.output.renderOutput(dataTable, element);\n",
              "          const docLink = document.createElement('div');\n",
              "          docLink.innerHTML = docLinkHtml;\n",
              "          element.appendChild(docLink);\n",
              "        }\n",
              "      </script>\n",
              "    </div>\n",
              "  </div>\n",
              "  "
            ]
          },
          "metadata": {},
          "execution_count": 2
        }
      ]
    },
    {
      "cell_type": "code",
      "source": [
        "print(df.shape)\n",
        "data=df.iloc[:]\n",
        "values=data[\"temperature;exhaust_vacuum;ambient_pressure;relative_humidity;energy_output\"]\n",
        "values.shape"
      ],
      "metadata": {
        "colab": {
          "base_uri": "https://localhost:8080/"
        },
        "id": "qa0cbX6y-E8y",
        "outputId": "bdc2362d-dd57-485a-bf6e-0f9a28430888"
      },
      "execution_count": 6,
      "outputs": [
        {
          "output_type": "stream",
          "name": "stdout",
          "text": [
            "(9568, 1)\n"
          ]
        },
        {
          "output_type": "execute_result",
          "data": {
            "text/plain": [
              "(9568,)"
            ]
          },
          "metadata": {},
          "execution_count": 6
        }
      ]
    },
    {
      "cell_type": "markdown",
      "source": [
        "# Take-away\n",
        "\n",
        "We find 4 input features and 1 target output"
      ],
      "metadata": {
        "id": "I1B5N2-KwfZ7"
      }
    },
    {
      "cell_type": "code",
      "source": [
        "import numpy as np\n",
        "\n",
        "all_x=np.zeros((9568,4))\n",
        "all_y=np.zeros((9568,1))"
      ],
      "metadata": {
        "id": "FLAoWM1U-ZW1"
      },
      "execution_count": 7,
      "outputs": []
    },
    {
      "cell_type": "code",
      "source": [
        "row=0\n",
        "for value in values:\n",
        "  \n",
        "  string=value.split(\";\")\n",
        "  all_x[row][0]=string[0]\n",
        "  all_x[row][1]=string[1]\n",
        "  all_x[row][2]=string[2]\n",
        "  all_x[row][3]=string[3]\n",
        "  all_y[row][0]=string[4]\n",
        "  row+=1\n",
        "print(\"feature inputs\", all_x)"
      ],
      "metadata": {
        "colab": {
          "base_uri": "https://localhost:8080/"
        },
        "id": "YEjKkgiZ-l40",
        "outputId": "59a73719-c941-460e-8f43-229e906dd649"
      },
      "execution_count": 8,
      "outputs": [
        {
          "output_type": "stream",
          "name": "stdout",
          "text": [
            "feature inputs [[   9.59   38.56 1017.01   60.1 ]\n",
            " [  12.04   42.34 1019.72   94.67]\n",
            " [  13.87   45.08 1024.42   81.69]\n",
            " ...\n",
            " [  30.44   56.24 1005.19   56.24]\n",
            " [  23.     66.05 1020.61   80.29]\n",
            " [  17.75   49.25 1020.86   63.67]]\n"
          ]
        }
      ]
    },
    {
      "cell_type": "code",
      "source": [
        "print(\"target outputs\", all_y)"
      ],
      "metadata": {
        "colab": {
          "base_uri": "https://localhost:8080/"
        },
        "id": "HBDIGWz0yOZb",
        "outputId": "4867c6a5-a0bd-479d-bba5-ca1d9cb2b700"
      },
      "execution_count": null,
      "outputs": [
        {
          "output_type": "stream",
          "name": "stdout",
          "text": [
            "target outputs [[481.3 ]\n",
            " [465.36]\n",
            " [465.48]\n",
            " ...\n",
            " [429.34]\n",
            " [421.57]\n",
            " [454.41]]\n"
          ]
        }
      ]
    },
    {
      "cell_type": "markdown",
      "source": [
        "# Model imports and train-test split"
      ],
      "metadata": {
        "id": "3o6ICEYLHSxq"
      }
    },
    {
      "cell_type": "code",
      "source": [
        "from sklearn.linear_model import LinearRegression\n",
        "from sklearn.tree import DecisionTreeRegressor\n",
        "from sklearn.ensemble import RandomForestRegressor\n",
        "from sklearn.model_selection import train_test_split\n",
        "from sklearn.metrics import mean_squared_error\n",
        "import matplotlib.pyplot as plt\n",
        "import seaborn as sns"
      ],
      "metadata": {
        "id": "8l0kkzoz-1iH"
      },
      "execution_count": 24,
      "outputs": []
    },
    {
      "cell_type": "code",
      "source": [
        "\n",
        "# Split the data into training and testing sets\n",
        "X_train, X_test, y_train, y_test = train_test_split(all_x, all_y, test_size=0.1, random_state=42)\n"
      ],
      "metadata": {
        "id": "F9ASsDUK2iSW"
      },
      "execution_count": 25,
      "outputs": []
    },
    {
      "cell_type": "markdown",
      "source": [
        "# Running a linear regression model"
      ],
      "metadata": {
        "id": "NwxYbiodyWSY"
      }
    },
    {
      "cell_type": "code",
      "source": [
        "def linear_regression(X_train, X_test, y_train, y_test, input):\n",
        "  # Create a linear regression model\n",
        "  model1 = LinearRegression()\n",
        "  # Train the model\n",
        "  model1.fit(X_train, y_train)\n",
        "\n",
        "  # Make predictions on the test set\n",
        "  y_pred = model1.predict(X_test)\n",
        "\n",
        "  # # plotting\n",
        "  # plt.scatter(X_train[0:,1], y_train, color = 'g')\n",
        "  # plt.plot(X_test[0:,1], y_pred, color = 'r')\n",
        "  \n",
        "  # Calculate the mean squared error\n",
        "  mse = mean_squared_error(y_test, y_pred)\n",
        "  print(\"Mean Squared Error (linear regression):\", mse)\n",
        "  \n",
        "  prediction = model1.predict(input.reshape(1,-1))\n",
        "  print(\"Predicting for the new input:\", prediction)\n",
        "  # print(\"Actual output for the second set of values:\", all_y[1])\n",
        "\n",
        "  return mse, prediction"
      ],
      "metadata": {
        "id": "QUPXsVnTzI_-"
      },
      "execution_count": 27,
      "outputs": []
    },
    {
      "cell_type": "markdown",
      "source": [
        "# Running decision tree and random forest regression models"
      ],
      "metadata": {
        "id": "VP5KKMb1HlWb"
      }
    },
    {
      "cell_type": "code",
      "source": [
        "def decision_tree_regression(X_train, X_test, y_train, y_test, input):\n",
        "  \n",
        "  # Create a linear regression model\n",
        "  model2 = DecisionTreeRegressor(random_state = 1)\n",
        "  # Train the model\n",
        "  model2.fit(X_train, y_train)\n",
        "\n",
        "  # Make predictions on the test set\n",
        "  y_pred = model2.predict(X_test)\n",
        "\n",
        "  # Calculate the mean squared error\n",
        "  mse = mean_squared_error(y_test, y_pred)\n",
        "  print(\"Mean Squared Error (decision tree regression):\", mse)\n",
        "\n",
        "  prediction = model2.predict(input.reshape(1,-1))\n",
        "  print(\"Predicting for the new input:\", prediction)\n",
        "\n",
        "  return mse, prediction"
      ],
      "metadata": {
        "id": "rhPSTTiyGWJH"
      },
      "execution_count": 28,
      "outputs": []
    },
    {
      "cell_type": "code",
      "source": [
        "def random_forest_regression(X_train, X_test, y_train, y_test, input):\n",
        "  \n",
        "  # Create a linear regression model\n",
        "  model3 = RandomForestRegressor()\n",
        "  # Train the model\n",
        "  model3.fit(X_train, y_train)\n",
        "\n",
        "  # Make predictions on the test set\n",
        "  y_pred = model3.predict(X_test)\n",
        "\n",
        "  # Calculate the mean squared error\n",
        "  mse = mean_squared_error(y_test, y_pred)\n",
        "  print(\"Mean Squared Error (random forest regression):\", mse)\n",
        "\n",
        "  prediction = model3.predict(input.reshape(1,-1))\n",
        "  print(\"Predicting for the new input:\", prediction)\n",
        "\n",
        "  return mse, prediction"
      ],
      "metadata": {
        "id": "cTZge_C9KjNA"
      },
      "execution_count": 29,
      "outputs": []
    },
    {
      "cell_type": "markdown",
      "source": [
        "# Running a gradient boost regression model"
      ],
      "metadata": {
        "id": "HPuaRa-S2GrC"
      }
    },
    {
      "cell_type": "code",
      "source": [
        "from xgboost import XGBRegressor\n",
        "\n",
        "def xgboost_regression(X_train, X_test, y_train, y_test, input):\n",
        "  \n",
        "  # Define the model\n",
        "  model4 = XGBRegressor(n_estimators=2000, learning_rate=0.0405)\n",
        "\n",
        "  # Fit the model\n",
        "  model4.fit(X_train, y_train) # Your code here\n",
        "\n",
        "  y_pred_XGB = model4.predict(X_test)\n",
        "\n",
        "  # Calculate the mean squared error\n",
        "  mse = mean_squared_error(y_test, y_pred_XGB)\n",
        "  print(\"Mean Squared Error (gradient boost):\", mse)\n",
        "  \n",
        "  prediction = model4.predict(input.reshape(1,-1))\n",
        "  print(\"Predicting for the new input:\", prediction)\n",
        "\n",
        "  return mse, prediction"
      ],
      "metadata": {
        "id": "t5SoC9S7K14Y"
      },
      "execution_count": 30,
      "outputs": []
    },
    {
      "cell_type": "markdown",
      "source": [
        "#Neural Network"
      ],
      "metadata": {
        "id": "igTBYSaQSahz"
      }
    },
    {
      "cell_type": "code",
      "source": [
        "pip install scikeras"
      ],
      "metadata": {
        "colab": {
          "base_uri": "https://localhost:8080/"
        },
        "id": "26sHJFR6Swy7",
        "outputId": "bac41cba-386e-49b1-91d0-768a05368d7b"
      },
      "execution_count": 4,
      "outputs": [
        {
          "output_type": "stream",
          "name": "stdout",
          "text": [
            "Looking in indexes: https://pypi.org/simple, https://us-python.pkg.dev/colab-wheels/public/simple/\n",
            "Collecting scikeras\n",
            "  Downloading scikeras-0.10.0-py3-none-any.whl (27 kB)\n",
            "Requirement already satisfied: packaging>=0.21 in /usr/local/lib/python3.10/dist-packages (from scikeras) (23.1)\n",
            "Requirement already satisfied: scikit-learn>=1.0.0 in /usr/local/lib/python3.10/dist-packages (from scikeras) (1.2.2)\n",
            "Requirement already satisfied: numpy>=1.17.3 in /usr/local/lib/python3.10/dist-packages (from scikit-learn>=1.0.0->scikeras) (1.22.4)\n",
            "Requirement already satisfied: scipy>=1.3.2 in /usr/local/lib/python3.10/dist-packages (from scikit-learn>=1.0.0->scikeras) (1.10.1)\n",
            "Requirement already satisfied: joblib>=1.1.1 in /usr/local/lib/python3.10/dist-packages (from scikit-learn>=1.0.0->scikeras) (1.2.0)\n",
            "Requirement already satisfied: threadpoolctl>=2.0.0 in /usr/local/lib/python3.10/dist-packages (from scikit-learn>=1.0.0->scikeras) (3.1.0)\n",
            "Installing collected packages: scikeras\n",
            "Successfully installed scikeras-0.10.0\n"
          ]
        }
      ]
    },
    {
      "cell_type": "code",
      "source": [
        "\n",
        "def nn(X_train, X_test, y_train, y_test, input):\n",
        "  from pandas import read_csv\n",
        "  from tensorflow.keras.models import Sequential\n",
        "  from tensorflow.keras.layers import Dense\n",
        "  from scikeras.wrappers import KerasRegressor\n",
        "  from sklearn.model_selection import cross_val_score\n",
        "  from sklearn.model_selection import KFold\n",
        "  from sklearn.preprocessing import StandardScaler\n",
        "  from sklearn.pipeline import Pipeline\n",
        "  import tensorflow as tf\n",
        "  # X=all_x\n",
        "  # Y=all_y\n",
        "  model = tf.keras.Sequential([\n",
        "    tf.keras.layers.Dense(100, activation = tf.keras.activations.relu),\n",
        "    tf.keras.layers.Dense(10),\n",
        "    tf.keras.layers.Dense(1)\n",
        "  ])\n",
        "  model.compile( loss = tf.keras.losses.mae, #mae stands for mean absolute error\n",
        "                optimizer = tf.keras.optimizers.Adam(\n",
        "      learning_rate=0.001), #stochastic GD\n",
        "                metrics = ['mse'])\n",
        "  history=model.fit( X_train, y_train,validation_data=(X_test,y_test), epochs = 50)\n",
        "  prediction=model.predict(input.reshape(1,-1))\n",
        "  return history.history['mse'][-1],prediction"
      ],
      "metadata": {
        "id": "OILqzxguSc6H"
      },
      "execution_count": 22,
      "outputs": []
    },
    {
      "cell_type": "markdown",
      "source": [
        "# Error comparison and prediction task"
      ],
      "metadata": {
        "id": "DpTPeUvo56Ja"
      }
    },
    {
      "cell_type": "code",
      "source": [
        "input = np.array([19.0, 54.0, 1013.0, 73.0])"
      ],
      "metadata": {
        "id": "MVHvyzAW_7O2"
      },
      "execution_count": 20,
      "outputs": []
    },
    {
      "cell_type": "code",
      "source": [
        "error_linear, prediction_linear = linear_regression(X_train, X_test, y_train, y_test, input)"
      ],
      "metadata": {
        "colab": {
          "base_uri": "https://localhost:8080/"
        },
        "id": "mFMFa6pB8gYr",
        "outputId": "8727e474-22da-4661-a565-da0fe7d17db0"
      },
      "execution_count": 31,
      "outputs": [
        {
          "output_type": "stream",
          "name": "stdout",
          "text": [
            "Mean Squared Error (linear regression): 21.138205780598557\n",
            "Predicting for the new input: [[455.75179545]]\n"
          ]
        }
      ]
    },
    {
      "cell_type": "code",
      "source": [
        "error_decision, prediction_decision = decision_tree_regression(X_train, X_test, y_train, y_test, input)"
      ],
      "metadata": {
        "colab": {
          "base_uri": "https://localhost:8080/"
        },
        "id": "GnMMUlDbGoW6",
        "outputId": "7aa8698c-cd4a-474b-dda5-cd7dfea729c1"
      },
      "execution_count": 32,
      "outputs": [
        {
          "output_type": "stream",
          "name": "stdout",
          "text": [
            "Mean Squared Error (decision tree regression): 19.079019540229872\n",
            "Predicting for the new input: [457.5]\n"
          ]
        }
      ]
    },
    {
      "cell_type": "code",
      "source": [
        "error_forest, prediction_forest = random_forest_regression(X_train, X_test, y_train, y_test, input)"
      ],
      "metadata": {
        "colab": {
          "base_uri": "https://localhost:8080/"
        },
        "id": "0SHG7dk00rNc",
        "outputId": "09199300-93f2-4a88-8c2c-c733e47538fc"
      },
      "execution_count": 33,
      "outputs": [
        {
          "output_type": "stream",
          "name": "stderr",
          "text": [
            "<ipython-input-29-f3d292ede06d>:6: DataConversionWarning: A column-vector y was passed when a 1d array was expected. Please change the shape of y to (n_samples,), for example using ravel().\n",
            "  model3.fit(X_train, y_train)\n"
          ]
        },
        {
          "output_type": "stream",
          "name": "stdout",
          "text": [
            "Mean Squared Error (random forest regression): 11.100599069111823\n",
            "Predicting for the new input: [456.1795]\n"
          ]
        }
      ]
    },
    {
      "cell_type": "code",
      "source": [
        "error_gradient , prediction_xgboost = xgboost_regression(X_train, X_test, y_train, y_test, input)"
      ],
      "metadata": {
        "colab": {
          "base_uri": "https://localhost:8080/"
        },
        "id": "N5LyL8gkKIyr",
        "outputId": "ff929edb-b09a-491b-c44c-2b377bcd8f4d"
      },
      "execution_count": 34,
      "outputs": [
        {
          "output_type": "stream",
          "name": "stdout",
          "text": [
            "Mean Squared Error (gradient boost): 8.711346965173714\n",
            "Predicting for the new input: [454.89572]\n"
          ]
        }
      ]
    },
    {
      "cell_type": "code",
      "source": [
        "error_nn , prediction_nn = nn(X_train, X_test, y_train, y_test, input)"
      ],
      "metadata": {
        "colab": {
          "base_uri": "https://localhost:8080/"
        },
        "id": "JaFkI_z2Wjif",
        "outputId": "3b447968-ba63-4dc2-fd84-f8f8298a0fb6"
      },
      "execution_count": 26,
      "outputs": [
        {
          "output_type": "stream",
          "name": "stdout",
          "text": [
            "Epoch 1/50\n",
            "270/270 [==============================] - 2s 4ms/step - loss: 15.8619 - mse: 953.1658 - val_loss: 10.5845 - val_mse: 144.5877\n",
            "Epoch 2/50\n",
            "270/270 [==============================] - 1s 3ms/step - loss: 5.3406 - mse: 45.6217 - val_loss: 6.0799 - val_mse: 54.4987\n",
            "Epoch 3/50\n",
            "270/270 [==============================] - 1s 3ms/step - loss: 4.8527 - mse: 37.5685 - val_loss: 4.4839 - val_mse: 31.6386\n",
            "Epoch 4/50\n",
            "270/270 [==============================] - 1s 3ms/step - loss: 4.8997 - mse: 38.0763 - val_loss: 8.3032 - val_mse: 93.0596\n",
            "Epoch 5/50\n",
            "270/270 [==============================] - 1s 3ms/step - loss: 4.9088 - mse: 38.3022 - val_loss: 4.4148 - val_mse: 30.7155\n",
            "Epoch 6/50\n",
            "270/270 [==============================] - 1s 3ms/step - loss: 4.6170 - mse: 34.3106 - val_loss: 4.5807 - val_mse: 33.2767\n",
            "Epoch 7/50\n",
            "270/270 [==============================] - 1s 3ms/step - loss: 4.5328 - mse: 32.7012 - val_loss: 4.5059 - val_mse: 32.1917\n",
            "Epoch 8/50\n",
            "270/270 [==============================] - 1s 4ms/step - loss: 4.5547 - mse: 33.2734 - val_loss: 6.7017 - val_mse: 65.0272\n",
            "Epoch 9/50\n",
            "270/270 [==============================] - 1s 5ms/step - loss: 4.6413 - mse: 34.3722 - val_loss: 6.4395 - val_mse: 60.1316\n",
            "Epoch 10/50\n",
            "270/270 [==============================] - 1s 3ms/step - loss: 4.3884 - mse: 30.5406 - val_loss: 4.2729 - val_mse: 28.4864\n",
            "Epoch 11/50\n",
            "270/270 [==============================] - 1s 3ms/step - loss: 4.5471 - mse: 33.1072 - val_loss: 5.2174 - val_mse: 41.0934\n",
            "Epoch 12/50\n",
            "270/270 [==============================] - 1s 3ms/step - loss: 4.6003 - mse: 33.7342 - val_loss: 4.1291 - val_mse: 26.8206\n",
            "Epoch 13/50\n",
            "270/270 [==============================] - 1s 3ms/step - loss: 4.3278 - mse: 30.0435 - val_loss: 3.8881 - val_mse: 24.0357\n",
            "Epoch 14/50\n",
            "270/270 [==============================] - 1s 3ms/step - loss: 4.4428 - mse: 31.7642 - val_loss: 4.9454 - val_mse: 38.0104\n",
            "Epoch 15/50\n",
            "270/270 [==============================] - 1s 3ms/step - loss: 4.3071 - mse: 29.6968 - val_loss: 4.7730 - val_mse: 35.3378\n",
            "Epoch 16/50\n",
            "270/270 [==============================] - 1s 3ms/step - loss: 4.3144 - mse: 29.8820 - val_loss: 7.9437 - val_mse: 82.6258\n",
            "Epoch 17/50\n",
            "270/270 [==============================] - 1s 3ms/step - loss: 4.4372 - mse: 31.8059 - val_loss: 3.8381 - val_mse: 23.2839\n",
            "Epoch 18/50\n",
            "270/270 [==============================] - 1s 3ms/step - loss: 4.1503 - mse: 27.5147 - val_loss: 4.3673 - val_mse: 31.1572\n",
            "Epoch 19/50\n",
            "270/270 [==============================] - 1s 3ms/step - loss: 4.2711 - mse: 29.2837 - val_loss: 8.7571 - val_mse: 97.1354\n",
            "Epoch 20/50\n",
            "270/270 [==============================] - 1s 3ms/step - loss: 4.3347 - mse: 29.9593 - val_loss: 4.4326 - val_mse: 31.0207\n",
            "Epoch 21/50\n",
            "270/270 [==============================] - 1s 3ms/step - loss: 4.2670 - mse: 29.1897 - val_loss: 5.6516 - val_mse: 49.0001\n",
            "Epoch 22/50\n",
            "270/270 [==============================] - 1s 4ms/step - loss: 4.3694 - mse: 30.6380 - val_loss: 4.0856 - val_mse: 26.1693\n",
            "Epoch 23/50\n",
            "270/270 [==============================] - 1s 4ms/step - loss: 4.2057 - mse: 28.5580 - val_loss: 5.0925 - val_mse: 41.0573\n",
            "Epoch 24/50\n",
            "270/270 [==============================] - 1s 3ms/step - loss: 4.2792 - mse: 29.3299 - val_loss: 3.8377 - val_mse: 23.2690\n",
            "Epoch 25/50\n",
            "270/270 [==============================] - 1s 3ms/step - loss: 4.2486 - mse: 28.9005 - val_loss: 4.6311 - val_mse: 33.6914\n",
            "Epoch 26/50\n",
            "270/270 [==============================] - 1s 3ms/step - loss: 4.2508 - mse: 29.0580 - val_loss: 3.8853 - val_mse: 23.9199\n",
            "Epoch 27/50\n",
            "270/270 [==============================] - 1s 3ms/step - loss: 4.2375 - mse: 29.0099 - val_loss: 3.8375 - val_mse: 23.4946\n",
            "Epoch 28/50\n",
            "270/270 [==============================] - 1s 3ms/step - loss: 4.2128 - mse: 28.5728 - val_loss: 3.8701 - val_mse: 23.6015\n",
            "Epoch 29/50\n",
            "270/270 [==============================] - 1s 3ms/step - loss: 4.2632 - mse: 29.3722 - val_loss: 3.9140 - val_mse: 24.0781\n",
            "Epoch 30/50\n",
            "270/270 [==============================] - 1s 3ms/step - loss: 4.1501 - mse: 27.7487 - val_loss: 5.7030 - val_mse: 49.3900\n",
            "Epoch 31/50\n",
            "270/270 [==============================] - 1s 3ms/step - loss: 4.2179 - mse: 28.7188 - val_loss: 3.8277 - val_mse: 23.2202\n",
            "Epoch 32/50\n",
            "270/270 [==============================] - 1s 3ms/step - loss: 4.1753 - mse: 28.0824 - val_loss: 3.8417 - val_mse: 23.3066\n",
            "Epoch 33/50\n",
            "270/270 [==============================] - 1s 3ms/step - loss: 4.1477 - mse: 27.7761 - val_loss: 4.5995 - val_mse: 33.5968\n",
            "Epoch 34/50\n",
            "270/270 [==============================] - 1s 3ms/step - loss: 4.0379 - mse: 26.2552 - val_loss: 7.3235 - val_mse: 72.0485\n",
            "Epoch 35/50\n",
            "270/270 [==============================] - 1s 4ms/step - loss: 4.1690 - mse: 28.2836 - val_loss: 7.0514 - val_mse: 68.2115\n",
            "Epoch 36/50\n",
            "270/270 [==============================] - 1s 5ms/step - loss: 4.1419 - mse: 27.7422 - val_loss: 3.8215 - val_mse: 23.2179\n",
            "Epoch 37/50\n",
            "270/270 [==============================] - 1s 4ms/step - loss: 4.1542 - mse: 27.6688 - val_loss: 3.9670 - val_mse: 24.8722\n",
            "Epoch 38/50\n",
            "270/270 [==============================] - 1s 3ms/step - loss: 4.1529 - mse: 27.5739 - val_loss: 5.4027 - val_mse: 44.8770\n",
            "Epoch 39/50\n",
            "270/270 [==============================] - 1s 3ms/step - loss: 4.0971 - mse: 26.9672 - val_loss: 4.0292 - val_mse: 25.6253\n",
            "Epoch 40/50\n",
            "270/270 [==============================] - 1s 3ms/step - loss: 4.2467 - mse: 28.9413 - val_loss: 3.9545 - val_mse: 24.6263\n",
            "Epoch 41/50\n",
            "270/270 [==============================] - 1s 3ms/step - loss: 4.1780 - mse: 28.0239 - val_loss: 4.2137 - val_mse: 27.8847\n",
            "Epoch 42/50\n",
            "270/270 [==============================] - 1s 3ms/step - loss: 4.0713 - mse: 26.9991 - val_loss: 6.0935 - val_mse: 56.0555\n",
            "Epoch 43/50\n",
            "270/270 [==============================] - 1s 3ms/step - loss: 4.2156 - mse: 28.7207 - val_loss: 3.8084 - val_mse: 23.1694\n",
            "Epoch 44/50\n",
            "270/270 [==============================] - 1s 3ms/step - loss: 4.1359 - mse: 27.4222 - val_loss: 4.1383 - val_mse: 26.8672\n",
            "Epoch 45/50\n",
            "270/270 [==============================] - 1s 3ms/step - loss: 4.1829 - mse: 28.1286 - val_loss: 5.2835 - val_mse: 42.0474\n",
            "Epoch 46/50\n",
            "270/270 [==============================] - 1s 3ms/step - loss: 4.1748 - mse: 28.2462 - val_loss: 3.9235 - val_mse: 25.0581\n",
            "Epoch 47/50\n",
            "270/270 [==============================] - 1s 3ms/step - loss: 4.0362 - mse: 26.2447 - val_loss: 3.7772 - val_mse: 22.6766\n",
            "Epoch 48/50\n",
            "270/270 [==============================] - 1s 3ms/step - loss: 4.1329 - mse: 27.3928 - val_loss: 4.1659 - val_mse: 27.3838\n",
            "Epoch 49/50\n",
            "270/270 [==============================] - 1s 4ms/step - loss: 4.0057 - mse: 26.0747 - val_loss: 3.8337 - val_mse: 23.6081\n",
            "Epoch 50/50\n",
            "270/270 [==============================] - 1s 4ms/step - loss: 4.0351 - mse: 26.0751 - val_loss: 4.1254 - val_mse: 27.5101\n",
            "1/1 [==============================] - 0s 46ms/step\n"
          ]
        }
      ]
    },
    {
      "cell_type": "code",
      "source": [
        "errors = np.array([error_linear, error_decision, error_forest, error_gradient,error_nn])\n",
        "models = ['linear', 'decision tree', 'random forest', 'gradient boost','Neural Network']\n",
        "data = {'error': errors, 'model': models}\n",
        "df = pd.DataFrame(data, columns = ['error', 'model'])\n",
        "df"
      ],
      "metadata": {
        "colab": {
          "base_uri": "https://localhost:8080/",
          "height": 206
        },
        "id": "zCd5aUoI0fhm",
        "outputId": "5a63d67a-e2fb-47e1-b85d-c37472db8e79"
      },
      "execution_count": 35,
      "outputs": [
        {
          "output_type": "execute_result",
          "data": {
            "text/plain": [
              "       error           model\n",
              "0  21.138206          linear\n",
              "1  19.079020   decision tree\n",
              "2  11.100599   random forest\n",
              "3   8.711347  gradient boost\n",
              "4  26.075060  Neural Network"
            ],
            "text/html": [
              "\n",
              "  <div id=\"df-3d089a41-58cf-4372-800c-aa3a5ddba275\">\n",
              "    <div class=\"colab-df-container\">\n",
              "      <div>\n",
              "<style scoped>\n",
              "    .dataframe tbody tr th:only-of-type {\n",
              "        vertical-align: middle;\n",
              "    }\n",
              "\n",
              "    .dataframe tbody tr th {\n",
              "        vertical-align: top;\n",
              "    }\n",
              "\n",
              "    .dataframe thead th {\n",
              "        text-align: right;\n",
              "    }\n",
              "</style>\n",
              "<table border=\"1\" class=\"dataframe\">\n",
              "  <thead>\n",
              "    <tr style=\"text-align: right;\">\n",
              "      <th></th>\n",
              "      <th>error</th>\n",
              "      <th>model</th>\n",
              "    </tr>\n",
              "  </thead>\n",
              "  <tbody>\n",
              "    <tr>\n",
              "      <th>0</th>\n",
              "      <td>21.138206</td>\n",
              "      <td>linear</td>\n",
              "    </tr>\n",
              "    <tr>\n",
              "      <th>1</th>\n",
              "      <td>19.079020</td>\n",
              "      <td>decision tree</td>\n",
              "    </tr>\n",
              "    <tr>\n",
              "      <th>2</th>\n",
              "      <td>11.100599</td>\n",
              "      <td>random forest</td>\n",
              "    </tr>\n",
              "    <tr>\n",
              "      <th>3</th>\n",
              "      <td>8.711347</td>\n",
              "      <td>gradient boost</td>\n",
              "    </tr>\n",
              "    <tr>\n",
              "      <th>4</th>\n",
              "      <td>26.075060</td>\n",
              "      <td>Neural Network</td>\n",
              "    </tr>\n",
              "  </tbody>\n",
              "</table>\n",
              "</div>\n",
              "      <button class=\"colab-df-convert\" onclick=\"convertToInteractive('df-3d089a41-58cf-4372-800c-aa3a5ddba275')\"\n",
              "              title=\"Convert this dataframe to an interactive table.\"\n",
              "              style=\"display:none;\">\n",
              "        \n",
              "  <svg xmlns=\"http://www.w3.org/2000/svg\" height=\"24px\"viewBox=\"0 0 24 24\"\n",
              "       width=\"24px\">\n",
              "    <path d=\"M0 0h24v24H0V0z\" fill=\"none\"/>\n",
              "    <path d=\"M18.56 5.44l.94 2.06.94-2.06 2.06-.94-2.06-.94-.94-2.06-.94 2.06-2.06.94zm-11 1L8.5 8.5l.94-2.06 2.06-.94-2.06-.94L8.5 2.5l-.94 2.06-2.06.94zm10 10l.94 2.06.94-2.06 2.06-.94-2.06-.94-.94-2.06-.94 2.06-2.06.94z\"/><path d=\"M17.41 7.96l-1.37-1.37c-.4-.4-.92-.59-1.43-.59-.52 0-1.04.2-1.43.59L10.3 9.45l-7.72 7.72c-.78.78-.78 2.05 0 2.83L4 21.41c.39.39.9.59 1.41.59.51 0 1.02-.2 1.41-.59l7.78-7.78 2.81-2.81c.8-.78.8-2.07 0-2.86zM5.41 20L4 18.59l7.72-7.72 1.47 1.35L5.41 20z\"/>\n",
              "  </svg>\n",
              "      </button>\n",
              "      \n",
              "  <style>\n",
              "    .colab-df-container {\n",
              "      display:flex;\n",
              "      flex-wrap:wrap;\n",
              "      gap: 12px;\n",
              "    }\n",
              "\n",
              "    .colab-df-convert {\n",
              "      background-color: #E8F0FE;\n",
              "      border: none;\n",
              "      border-radius: 50%;\n",
              "      cursor: pointer;\n",
              "      display: none;\n",
              "      fill: #1967D2;\n",
              "      height: 32px;\n",
              "      padding: 0 0 0 0;\n",
              "      width: 32px;\n",
              "    }\n",
              "\n",
              "    .colab-df-convert:hover {\n",
              "      background-color: #E2EBFA;\n",
              "      box-shadow: 0px 1px 2px rgba(60, 64, 67, 0.3), 0px 1px 3px 1px rgba(60, 64, 67, 0.15);\n",
              "      fill: #174EA6;\n",
              "    }\n",
              "\n",
              "    [theme=dark] .colab-df-convert {\n",
              "      background-color: #3B4455;\n",
              "      fill: #D2E3FC;\n",
              "    }\n",
              "\n",
              "    [theme=dark] .colab-df-convert:hover {\n",
              "      background-color: #434B5C;\n",
              "      box-shadow: 0px 1px 3px 1px rgba(0, 0, 0, 0.15);\n",
              "      filter: drop-shadow(0px 1px 2px rgba(0, 0, 0, 0.3));\n",
              "      fill: #FFFFFF;\n",
              "    }\n",
              "  </style>\n",
              "\n",
              "      <script>\n",
              "        const buttonEl =\n",
              "          document.querySelector('#df-3d089a41-58cf-4372-800c-aa3a5ddba275 button.colab-df-convert');\n",
              "        buttonEl.style.display =\n",
              "          google.colab.kernel.accessAllowed ? 'block' : 'none';\n",
              "\n",
              "        async function convertToInteractive(key) {\n",
              "          const element = document.querySelector('#df-3d089a41-58cf-4372-800c-aa3a5ddba275');\n",
              "          const dataTable =\n",
              "            await google.colab.kernel.invokeFunction('convertToInteractive',\n",
              "                                                     [key], {});\n",
              "          if (!dataTable) return;\n",
              "\n",
              "          const docLinkHtml = 'Like what you see? Visit the ' +\n",
              "            '<a target=\"_blank\" href=https://colab.research.google.com/notebooks/data_table.ipynb>data table notebook</a>'\n",
              "            + ' to learn more about interactive tables.';\n",
              "          element.innerHTML = '';\n",
              "          dataTable['output_type'] = 'display_data';\n",
              "          await google.colab.output.renderOutput(dataTable, element);\n",
              "          const docLink = document.createElement('div');\n",
              "          docLink.innerHTML = docLinkHtml;\n",
              "          element.appendChild(docLink);\n",
              "        }\n",
              "      </script>\n",
              "    </div>\n",
              "  </div>\n",
              "  "
            ]
          },
          "metadata": {},
          "execution_count": 35
        }
      ]
    },
    {
      "cell_type": "code",
      "source": [
        "sns.set_theme()\n",
        "sns.set_style(\"darkgrid\")\n",
        "barplot = sns.barplot(data=df, x=\"model\", y=\"error\")\n",
        "\n",
        "# Rotate the y-axis labels by 45 degrees\n",
        "barplot.set_xticklabels(barplot.get_xticklabels(), rotation=45)"
      ],
      "metadata": {
        "colab": {
          "base_uri": "https://localhost:8080/",
          "height": 625
        },
        "id": "myBKa4LZ2Kwv",
        "outputId": "b55a47e8-9be4-492f-c0d2-df1e5cf6aea8"
      },
      "execution_count": 39,
      "outputs": [
        {
          "output_type": "execute_result",
          "data": {
            "text/plain": [
              "[Text(0, 0, 'linear'),\n",
              " Text(1, 0, 'decision tree'),\n",
              " Text(2, 0, 'random forest'),\n",
              " Text(3, 0, 'gradient boost'),\n",
              " Text(4, 0, 'Neural Network')]"
            ]
          },
          "metadata": {},
          "execution_count": 39
        },
        {
          "output_type": "display_data",
          "data": {
            "text/plain": [
              "<Figure size 640x480 with 1 Axes>"
            ],
            "image/png": "[encoded data removed]"
          },
          "metadata": {}
        }
      ]
    },
    {
      "cell_type": "markdown",
      "source": [
        "# Optimization task"
      ],
      "metadata": {
        "id": "jgSMMMjBrTdn"
      }
    },
    {
      "cell_type": "code",
      "source": [
        "import numpy as np\n",
        "from scipy.optimize import minimize\n",
        "\n",
        "model4 = XGBRegressor(n_estimators=2000, learning_rate=0.0405)\n",
        "\n",
        "  # Fit the model\n",
        "model4.fit(X_train, y_train) # Your code here\n",
        "\n",
        "def objective_function(x):\n",
        "    temperature, exhaust_vacuum, ambient_pressure, relative_humidity = x\n",
        "    return exhaust_vacuum  # Objective: minimize exhaust vacuum\n",
        "\n",
        "def energy_constraint(x):\n",
        "    temperature, exhaust_vacuum, ambient_pressure, relative_humidity = x\n",
        "    energy = model4.predict(x.reshape(1,-1)) # Energy calculation\n",
        "    return energy - 450  # Constraint: energy >= 450\n",
        "\n",
        "# Initial guess for the feature values\n",
        "x0 = np.array([19.0, 54.0, 1013.0, 73.0])\n",
        "\n",
        "# Bounds for the feature values\n",
        "bounds = [(None, None), (0, None), (None, None), (None, None)]  # No specific bounds set\n",
        "\n",
        "# Constraint definition\n",
        "constraint = {'type': 'ineq', 'fun': energy_constraint}\n",
        "\n",
        "# Optimization process\n",
        "result = minimize(objective_function, x0, method='SLSQP', bounds=bounds, constraints=constraint)\n",
        "\n",
        "# Print the optimized feature values and the minimized exhaust vacuum\n",
        "print('Optimized Feature Values:')\n",
        "print('Temperature:', result.x[0])\n",
        "print('Exhaust Vacuum:', result.x[1])\n",
        "print('Ambient Pressure:', result.x[2])\n",
        "print('Relative Humidity:', result.x[3])\n",
        "print('Minimized Exhaust Vacuum:', result.fun)"
      ],
      "metadata": {
        "colab": {
          "base_uri": "https://localhost:8080/"
        },
        "id": "J4xFwbKHhJVn",
        "outputId": "48500a96-e893-4070-c2a5-452958f46a3f"
      },
      "execution_count": 40,
      "outputs": [
        {
          "output_type": "stream",
          "name": "stdout",
          "text": [
            "Optimized Feature Values:\n",
            "Temperature: 19.0\n",
            "Exhaust Vacuum: 1.8189894035458565e-12\n",
            "Ambient Pressure: 1013.0\n",
            "Relative Humidity: 73.0\n",
            "Minimized Exhaust Vacuum: 1.8189894035458565e-12\n"
          ]
        }
      ]
    }
  ]
}